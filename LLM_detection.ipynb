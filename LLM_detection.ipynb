{
  "nbformat": 4,
  "nbformat_minor": 0,
  "metadata": {
    "colab": {
      "provenance": []
    },
    "kernelspec": {
      "name": "python3",
      "display_name": "Python 3"
    },
    "language_info": {
      "name": "python"
    }
  },
  "cells": [
    {
      "cell_type": "code",
      "source": [
        "from google.colab import drive\n",
        "drive.mount('/content/drive')"
      ],
      "metadata": {
        "id": "a1uC-73gxg8f",
        "outputId": "bba46302-e952-4611-becf-627c82f053e9",
        "colab": {
          "base_uri": "https://localhost:8080/"
        }
      },
      "execution_count": null,
      "outputs": [
        {
          "output_type": "stream",
          "name": "stdout",
          "text": [
            "Mounted at /content/drive\n"
          ]
        }
      ]
    },
    {
      "cell_type": "code",
      "source": [
        "import pandas as pd\n",
        "import re\n",
        "import pandas as pd\n",
        "import numpy as np\n",
        "from sklearn.preprocessing import LabelEncoder\n",
        "from sklearn.model_selection import train_test_split\n",
        "from keras.preprocessing.text import Tokenizer\n",
        "from keras.preprocessing.sequence import pad_sequences\n",
        "import keras\n",
        "import math\n",
        "import nltk\n",
        "from nltk.corpus import stopwords\n",
        "from nltk.tokenize import WhitespaceTokenizer\n",
        "from nltk.stem import WordNetLemmatizer\n",
        "import tensorflow as tf\n",
        "from sklearn.metrics import classification_report,confusion_matrix\n",
        "from keras.models import Sequential\n",
        "from keras.layers import Dense, Embedding, LSTM, SpatialDropout1D\n",
        "from keras.layers import Bidirectional\n",
        "import string"
      ],
      "metadata": {
        "id": "-mbgGdD1qTFC"
      },
      "execution_count": 22,
      "outputs": []
    },
    {
      "cell_type": "code",
      "source": [
        "nltk.download('stopwords')"
      ],
      "metadata": {
        "colab": {
          "base_uri": "https://localhost:8080/"
        },
        "id": "eAvvlEmlweU4",
        "outputId": "42d056aa-296c-496e-f79a-f0a9f2e26c1d"
      },
      "execution_count": null,
      "outputs": [
        {
          "output_type": "stream",
          "name": "stderr",
          "text": [
            "[nltk_data] Downloading package stopwords to /root/nltk_data...\n",
            "[nltk_data]   Unzipping corpora/stopwords.zip.\n"
          ]
        },
        {
          "output_type": "execute_result",
          "data": {
            "text/plain": [
              "True"
            ]
          },
          "metadata": {},
          "execution_count": 4
        }
      ]
    },
    {
      "cell_type": "code",
      "source": [
        "%%time\n",
        "# Read the parquet file into a DataFrame\n",
        "df = pd.read_parquet(\"/content/drive/MyDrive/AI_Detector_Project/data.parquet\")\n",
        "\n",
        "item0 = df.shape[0]  # Store the initial number of items in the DataFrame\n",
        "df = df.drop_duplicates()  # Remove duplicate rows from the DataFrame\n",
        "item1 = df.shape[0]  # Store the number of items in the DataFrame after removing duplicates\n",
        "print(f\"There are {item0-item1} duplicates found in the dataset\")  # Print the number of duplicates removed\n",
        "\n",
        "df = df.rename(columns={'text': 'title', 'source': 'label'})\n",
        "\n",
        "df = df[['label', 'title']]  # Select only the 'label' and 'title' columns\n",
        "df = df[~df['title'].isnull()]  # Remove rows where 'title' is null\n",
        "df = df[~df['label'].isnull()]  # Remove rows where 'label' is null\n",
        "\n",
        "\n",
        "print(df.shape)  # Print the shape of the DataFrame after data preprocessing\n",
        "df.sample(5).T  # Display a random sample of 5 rows from the DataFrame"
      ],
      "metadata": {
        "id": "YP6Lzt-6xpYO",
        "outputId": "06a84e19-0b84-46d3-cdcd-3a52bc4836b3",
        "colab": {
          "base_uri": "https://localhost:8080/",
          "height": 199
        }
      },
      "execution_count": null,
      "outputs": [
        {
          "output_type": "stream",
          "name": "stdout",
          "text": [
            "There are 0 duplicates found in the dataset\n",
            "(788922, 2)\n",
            "CPU times: user 20.8 s, sys: 17.8 s, total: 38.6 s\n",
            "Wall time: 54.2 s\n"
          ]
        },
        {
          "output_type": "execute_result",
          "data": {
            "text/plain": [
              "                                                  749143  \\\n",
              "label                                   Text-Davinci-002   \n",
              "title  Whenever I want to know more about an idea, pr...   \n",
              "\n",
              "                                                  253819  \\\n",
              "label                                              Human   \n",
              "title  Application of Interviewing to a Violence Vict...   \n",
              "\n",
              "                                                  766769  \\\n",
              "label                                   Text-Davinci-003   \n",
              "title  Counter Argument: Men are not a detriment to s...   \n",
              "\n",
              "                                                  693872  \\\n",
              "label                                             PaLM-2   \n",
              "title   Tennessee Williams is one of the most importa...   \n",
              "\n",
              "                                                  699138  \n",
              "label                                             PaLM-2  \n",
              "title   The influence of digital media on political p...  "
            ],
            "text/html": [
              "\n",
              "  <div id=\"df-0540f9ef-c912-415c-8aa0-c33426a511d4\" class=\"colab-df-container\">\n",
              "    <div>\n",
              "<style scoped>\n",
              "    .dataframe tbody tr th:only-of-type {\n",
              "        vertical-align: middle;\n",
              "    }\n",
              "\n",
              "    .dataframe tbody tr th {\n",
              "        vertical-align: top;\n",
              "    }\n",
              "\n",
              "    .dataframe thead th {\n",
              "        text-align: right;\n",
              "    }\n",
              "</style>\n",
              "<table border=\"1\" class=\"dataframe\">\n",
              "  <thead>\n",
              "    <tr style=\"text-align: right;\">\n",
              "      <th></th>\n",
              "      <th>749143</th>\n",
              "      <th>253819</th>\n",
              "      <th>766769</th>\n",
              "      <th>693872</th>\n",
              "      <th>699138</th>\n",
              "    </tr>\n",
              "  </thead>\n",
              "  <tbody>\n",
              "    <tr>\n",
              "      <th>label</th>\n",
              "      <td>Text-Davinci-002</td>\n",
              "      <td>Human</td>\n",
              "      <td>Text-Davinci-003</td>\n",
              "      <td>PaLM-2</td>\n",
              "      <td>PaLM-2</td>\n",
              "    </tr>\n",
              "    <tr>\n",
              "      <th>title</th>\n",
              "      <td>Whenever I want to know more about an idea, pr...</td>\n",
              "      <td>Application of Interviewing to a Violence Vict...</td>\n",
              "      <td>Counter Argument: Men are not a detriment to s...</td>\n",
              "      <td>Tennessee Williams is one of the most importa...</td>\n",
              "      <td>The influence of digital media on political p...</td>\n",
              "    </tr>\n",
              "  </tbody>\n",
              "</table>\n",
              "</div>\n",
              "    <div class=\"colab-df-buttons\">\n",
              "\n",
              "  <div class=\"colab-df-container\">\n",
              "    <button class=\"colab-df-convert\" onclick=\"convertToInteractive('df-0540f9ef-c912-415c-8aa0-c33426a511d4')\"\n",
              "            title=\"Convert this dataframe to an interactive table.\"\n",
              "            style=\"display:none;\">\n",
              "\n",
              "  <svg xmlns=\"http://www.w3.org/2000/svg\" height=\"24px\" viewBox=\"0 -960 960 960\">\n",
              "    <path d=\"M120-120v-720h720v720H120Zm60-500h600v-160H180v160Zm220 220h160v-160H400v160Zm0 220h160v-160H400v160ZM180-400h160v-160H180v160Zm440 0h160v-160H620v160ZM180-180h160v-160H180v160Zm440 0h160v-160H620v160Z\"/>\n",
              "  </svg>\n",
              "    </button>\n",
              "\n",
              "  <style>\n",
              "    .colab-df-container {\n",
              "      display:flex;\n",
              "      gap: 12px;\n",
              "    }\n",
              "\n",
              "    .colab-df-convert {\n",
              "      background-color: #E8F0FE;\n",
              "      border: none;\n",
              "      border-radius: 50%;\n",
              "      cursor: pointer;\n",
              "      display: none;\n",
              "      fill: #1967D2;\n",
              "      height: 32px;\n",
              "      padding: 0 0 0 0;\n",
              "      width: 32px;\n",
              "    }\n",
              "\n",
              "    .colab-df-convert:hover {\n",
              "      background-color: #E2EBFA;\n",
              "      box-shadow: 0px 1px 2px rgba(60, 64, 67, 0.3), 0px 1px 3px 1px rgba(60, 64, 67, 0.15);\n",
              "      fill: #174EA6;\n",
              "    }\n",
              "\n",
              "    .colab-df-buttons div {\n",
              "      margin-bottom: 4px;\n",
              "    }\n",
              "\n",
              "    [theme=dark] .colab-df-convert {\n",
              "      background-color: #3B4455;\n",
              "      fill: #D2E3FC;\n",
              "    }\n",
              "\n",
              "    [theme=dark] .colab-df-convert:hover {\n",
              "      background-color: #434B5C;\n",
              "      box-shadow: 0px 1px 3px 1px rgba(0, 0, 0, 0.15);\n",
              "      filter: drop-shadow(0px 1px 2px rgba(0, 0, 0, 0.3));\n",
              "      fill: #FFFFFF;\n",
              "    }\n",
              "  </style>\n",
              "\n",
              "    <script>\n",
              "      const buttonEl =\n",
              "        document.querySelector('#df-0540f9ef-c912-415c-8aa0-c33426a511d4 button.colab-df-convert');\n",
              "      buttonEl.style.display =\n",
              "        google.colab.kernel.accessAllowed ? 'block' : 'none';\n",
              "\n",
              "      async function convertToInteractive(key) {\n",
              "        const element = document.querySelector('#df-0540f9ef-c912-415c-8aa0-c33426a511d4');\n",
              "        const dataTable =\n",
              "          await google.colab.kernel.invokeFunction('convertToInteractive',\n",
              "                                                    [key], {});\n",
              "        if (!dataTable) return;\n",
              "\n",
              "        const docLinkHtml = 'Like what you see? Visit the ' +\n",
              "          '<a target=\"_blank\" href=https://colab.research.google.com/notebooks/data_table.ipynb>data table notebook</a>'\n",
              "          + ' to learn more about interactive tables.';\n",
              "        element.innerHTML = '';\n",
              "        dataTable['output_type'] = 'display_data';\n",
              "        await google.colab.output.renderOutput(dataTable, element);\n",
              "        const docLink = document.createElement('div');\n",
              "        docLink.innerHTML = docLinkHtml;\n",
              "        element.appendChild(docLink);\n",
              "      }\n",
              "    </script>\n",
              "  </div>\n",
              "\n",
              "\n",
              "<div id=\"df-3c008a83-14ba-42dc-8c41-1c03d802e7b7\">\n",
              "  <button class=\"colab-df-quickchart\" onclick=\"quickchart('df-3c008a83-14ba-42dc-8c41-1c03d802e7b7')\"\n",
              "            title=\"Suggest charts\"\n",
              "            style=\"display:none;\">\n",
              "\n",
              "<svg xmlns=\"http://www.w3.org/2000/svg\" height=\"24px\"viewBox=\"0 0 24 24\"\n",
              "     width=\"24px\">\n",
              "    <g>\n",
              "        <path d=\"M19 3H5c-1.1 0-2 .9-2 2v14c0 1.1.9 2 2 2h14c1.1 0 2-.9 2-2V5c0-1.1-.9-2-2-2zM9 17H7v-7h2v7zm4 0h-2V7h2v10zm4 0h-2v-4h2v4z\"/>\n",
              "    </g>\n",
              "</svg>\n",
              "  </button>\n",
              "\n",
              "<style>\n",
              "  .colab-df-quickchart {\n",
              "      --bg-color: #E8F0FE;\n",
              "      --fill-color: #1967D2;\n",
              "      --hover-bg-color: #E2EBFA;\n",
              "      --hover-fill-color: #174EA6;\n",
              "      --disabled-fill-color: #AAA;\n",
              "      --disabled-bg-color: #DDD;\n",
              "  }\n",
              "\n",
              "  [theme=dark] .colab-df-quickchart {\n",
              "      --bg-color: #3B4455;\n",
              "      --fill-color: #D2E3FC;\n",
              "      --hover-bg-color: #434B5C;\n",
              "      --hover-fill-color: #FFFFFF;\n",
              "      --disabled-bg-color: #3B4455;\n",
              "      --disabled-fill-color: #666;\n",
              "  }\n",
              "\n",
              "  .colab-df-quickchart {\n",
              "    background-color: var(--bg-color);\n",
              "    border: none;\n",
              "    border-radius: 50%;\n",
              "    cursor: pointer;\n",
              "    display: none;\n",
              "    fill: var(--fill-color);\n",
              "    height: 32px;\n",
              "    padding: 0;\n",
              "    width: 32px;\n",
              "  }\n",
              "\n",
              "  .colab-df-quickchart:hover {\n",
              "    background-color: var(--hover-bg-color);\n",
              "    box-shadow: 0 1px 2px rgba(60, 64, 67, 0.3), 0 1px 3px 1px rgba(60, 64, 67, 0.15);\n",
              "    fill: var(--button-hover-fill-color);\n",
              "  }\n",
              "\n",
              "  .colab-df-quickchart-complete:disabled,\n",
              "  .colab-df-quickchart-complete:disabled:hover {\n",
              "    background-color: var(--disabled-bg-color);\n",
              "    fill: var(--disabled-fill-color);\n",
              "    box-shadow: none;\n",
              "  }\n",
              "\n",
              "  .colab-df-spinner {\n",
              "    border: 2px solid var(--fill-color);\n",
              "    border-color: transparent;\n",
              "    border-bottom-color: var(--fill-color);\n",
              "    animation:\n",
              "      spin 1s steps(1) infinite;\n",
              "  }\n",
              "\n",
              "  @keyframes spin {\n",
              "    0% {\n",
              "      border-color: transparent;\n",
              "      border-bottom-color: var(--fill-color);\n",
              "      border-left-color: var(--fill-color);\n",
              "    }\n",
              "    20% {\n",
              "      border-color: transparent;\n",
              "      border-left-color: var(--fill-color);\n",
              "      border-top-color: var(--fill-color);\n",
              "    }\n",
              "    30% {\n",
              "      border-color: transparent;\n",
              "      border-left-color: var(--fill-color);\n",
              "      border-top-color: var(--fill-color);\n",
              "      border-right-color: var(--fill-color);\n",
              "    }\n",
              "    40% {\n",
              "      border-color: transparent;\n",
              "      border-right-color: var(--fill-color);\n",
              "      border-top-color: var(--fill-color);\n",
              "    }\n",
              "    60% {\n",
              "      border-color: transparent;\n",
              "      border-right-color: var(--fill-color);\n",
              "    }\n",
              "    80% {\n",
              "      border-color: transparent;\n",
              "      border-right-color: var(--fill-color);\n",
              "      border-bottom-color: var(--fill-color);\n",
              "    }\n",
              "    90% {\n",
              "      border-color: transparent;\n",
              "      border-bottom-color: var(--fill-color);\n",
              "    }\n",
              "  }\n",
              "</style>\n",
              "\n",
              "  <script>\n",
              "    async function quickchart(key) {\n",
              "      const quickchartButtonEl =\n",
              "        document.querySelector('#' + key + ' button');\n",
              "      quickchartButtonEl.disabled = true;  // To prevent multiple clicks.\n",
              "      quickchartButtonEl.classList.add('colab-df-spinner');\n",
              "      try {\n",
              "        const charts = await google.colab.kernel.invokeFunction(\n",
              "            'suggestCharts', [key], {});\n",
              "      } catch (error) {\n",
              "        console.error('Error during call to suggestCharts:', error);\n",
              "      }\n",
              "      quickchartButtonEl.classList.remove('colab-df-spinner');\n",
              "      quickchartButtonEl.classList.add('colab-df-quickchart-complete');\n",
              "    }\n",
              "    (() => {\n",
              "      let quickchartButtonEl =\n",
              "        document.querySelector('#df-3c008a83-14ba-42dc-8c41-1c03d802e7b7 button');\n",
              "      quickchartButtonEl.style.display =\n",
              "        google.colab.kernel.accessAllowed ? 'block' : 'none';\n",
              "    })();\n",
              "  </script>\n",
              "</div>\n",
              "    </div>\n",
              "  </div>\n"
            ],
            "application/vnd.google.colaboratory.intrinsic+json": {
              "type": "dataframe",
              "summary": "{\n  \"name\": \"get_ipython()\",\n  \"rows\": 2,\n  \"fields\": [\n    {\n      \"column\": 749143,\n      \"properties\": {\n        \"dtype\": \"string\",\n        \"num_unique_values\": 2,\n        \"samples\": [\n          \"Whenever I want to know more about an idea, product, etc. I look to someone who has that idea or uses that product to learn more about it. Why, then, when it comes to the topic of exercise do we so quickly defer to what a \\\"professional\\\" says? If anything, we should be doing the opposite. When it comes to our physical activity, we are like no one else in the world. We have our own bodies, our own genetics, and our own experiences with movement. So why would we trust someone else to tell us what is best for us? The world is full of experts who want to sell you on their program or workout routine. And while there is nothing wrong with that, it is important to realize that each person is an expert on their own body. The best person to listen to when it comes to your fitness is YOU. Not only does this mean that you should be the one making decisions about your workout routine, but it also means that you should be the one listening to your body. Your body knows what it needs and how much it can handle. It is up to you to listen to those cues and make decisions accordingly. Of course, this doesn't mean that you should never seek out advice from others. But it does mean that you should be careful about who you listen to and take everything with a grain of salt. In the end, you are the only one who knows what is best for your body.\",\n          \"Text-Davinci-002\"\n        ],\n        \"semantic_type\": \"\",\n        \"description\": \"\"\n      }\n    },\n    {\n      \"column\": 253819,\n      \"properties\": {\n        \"dtype\": \"string\",\n        \"num_unique_values\": 2,\n        \"samples\": [\n          \"Application of Interviewing to a Violence Victim Essay (Critical Writing)\\n\\nTable of Contents\\n 1. Setting\\n 2. Techniques and Strategies\\n 3. Question Types\\n 4. References\\n\\nThe purpose of interviewing the victim is to prepare him for the court sessions. The advocate tells the victim what he expects to see and hear during the court proceedings. It is important to ensure that John Smith is ready to communicate about the assault for the trial. The information obtained from the interview is essential because it can indicate whether the victim is implicated in the crime (\\u201cInterviewing Techniques in Domestic Violence Cases,\\u201d n.d.). By questioning the victim, the advocate can tell whether he is giving all the needed information, especially by narrating what happened.\\n\\nSmith also needs questioning because he needs to understand the conditions in which he will be willing to talk in court or even in the interview room. The information is also needed for the proceeding, especially if the victim will be presented by the advocate. During the interview, the advocate should inform the victim\\u2019s rights regarding the case and that he is free to leave at any time should he feel uncomfortable because he is not under arrest.\\n\\nSetting\\n\\nThe setting of the interview is critical to the willingness and chances of the victim to communicate. According to Kasim and Kamba (2019), domestic violence victims are less likely to confide if they feel threatened by the immediate environment. Thus, the environment in which the interview takes place should be conducive and comfortable enough for the victim to feel safe (\\u201cCJ 140 Project Three Scenario Victim Witness Advocate,\\u201d n.d). The current setting will make Smith feel safe because it is an office, separate from other courthouse amenities and activities.\\n\\nThe room also will have fewer people and, in this case, the interviewee and interviewer. The presence of law and governmental picture in the walls will highly increase the trust of Smith in the law hence giving Smith some safety assurance (Kasim & Kamba, 2019). Reduced noise and fewer disruptive decorations or information on the office walls are likely to make the victim concentrate. In other words, the isolated office will offer Smith the safety, confidence, and comfort he needs to talk.\\n\\nThe conducive environment provided by the office setting will also make the interviewer confident and attentive. The absence of many people in the office gives the interviewer the confidence to assure the victim that he can speak without fear (\\u201cCJ 140 Project Three Scenario Victim Witness Advocate,\\u201d n.d). The advocate will be more attentive to Smith because there are minimal interruptions from other people. Environments such as the police station or a law firm are not suitable for the interview because the advocate might be interrupted by police seeking inquiries or colleagues.\\n\\nIn such a setting where fewer people are listening to their conversation, the advocate can ask all types of questions needed to get the right information. Furthermore, the presence of law enforcement and government picture in the walls help the advocate to feel within the legal power boundaries to interview the victim. The location of the office, which is in the courthouse, guarantees the safety of the advocate as well as the reach of all information that may be necessary for the interview.\\n\\nTechniques and Strategies\\n\\nThe setting of the interview and the fact that the advocate read the victim\\u2019s rights make him feel free to leave. The first thing to inform Smith before starting the interview is that he is free to leave anytime he wants because he is not under arrest. The victim may feel the need to leave if he is not ready or comfortable speaking to the interviewer. The advocate has to inform Smith that he should willingly participate in the interview and that he can leave should he feel like he cannot continue.\\n\\nThe advocate should use body language that encourages the victim to open up. The interviewer should remain calm with little body movements to create a calm environment (Kasim & Kamba, 2019). If the interviewer shows anxiety through constant body movement, the interviewee will likely be interrupted or feel unsafe to talk. Some of the body movements to avoid include cracking a knuckle, scratching the head or other body parts, hand knocks on the table, bending and crisscrossing the legs (Kasim & Kamba, 2019). However, the advocate should not be too stiff because that might create unnecessary tension. The interviewer must keep and maintain eye contact with the victim. Eye contact helps both parties to pay attention, ask the right questions and get the right answers.\\n\\nDuring the interview, I will use a calm and direct tone to ask the right questions and get befitting answers. A calm or lower pitch of voice should be used to avoid sounding harsh. The advocate should ask direct questions in a supportive and matter-of-fact tone (\\u201cInterviewing Techniques in Domestic Violence Cases,\\u201d n.d.). The interviewee should never feel like the interviewer is being judgmental or insensitive. A sympathetic tone can also be used to show Smith that his situation is understandable. Showing sympathy makes the victim develop trust for the advocate. The tone should also be professional yet friendly to maintain boundaries and still connect with the victim.\\n\\nQuestion Types\\n\\nThe important information needed from the interview is about the timeline of the assault. Smith should explain what conspired on the reported morning in lengthy details. He should tell exactly how he knew he had been attacked and what he did after the assault. Details about the frequency of assaults from his wife, either verbal or physical, are critical. Smith should also tell whether they had argued or some misunderstanding earlier in the day before the assault. Information about whether Smith has ever assaulted Jane, either verbally or emotionally, is also needed. It is also important to know how the couple always solved their disputes after the verbal assault or emotional abuse in the past. Lastly, the advocate needs to know whether Jane Smith only assaults her husband when drunk and how often she drinks.\\n\\nVarious types of questions, including reflective, directive, indirect, diversion, and self-appraisal, will help to gain the needed information. However, some types of questions, including reflective, directive, and self-appraisal, will be more useful than indirect and diversion because they are least likely to fetch the right information. Reflective questions will help Smith to focus on the happenings of the event, while directive questions will help him to tell the exact details needed (Kasim & Kamba, 2019). Self-appraisal or self-evaluation questions make the victim look into his life with his wife, thus remembering the assault\\u2019s conditions (\\u201cInterviewing Techniques in Domestic Violence Cases,\\u201d n.d.). Indirect questions might be the least useful in the interview because they may lack specificity and require more time to answer. Equally, diversion questions might make the interviewee wander between information before getting to the important details.\\n\\nSome of the pitfalls to avoid include asking judgmental, annoying, boring, or suggestive questions. Judgmental questions such as \\u201cSo you just stayed down and did not hit her back?\\u201d may annoy the victim and end the cooperation. Pointed type of questions that shows the advocate is bored or annoyed may hinder Smith from giving more information (\\u201cInterviewing Techniques in Domestic Violence Cases,\\u201d n.d.). Leading questions also may not be suitable because they may direct the interviewee to the incorrect direction of facts. Furthermore, questions that might seem to blame or intimidate the victim obstruct some critical information. Rhetoric or ambiguous questions such as \\u201cAre you okay?\\u201d are not necessary and may not help to find out how the victims feel.\\n\\nReferences\\n\\nCJ 140 project three scenario victim witness advocate. (n.d.). 1.\\n\\nInterviewing techniques in domestic violence cases. (n.d.). 1-16. Web.\\n\\nKasim, N. M., & Kamba, S. N. M. (2019). Implementation of assistance for victims of domestic violence. Indonesian Journal of Advocacy and Legal Services , 1 (1), 147-156. Web.\\n\",\n          \"Human\"\n        ],\n        \"semantic_type\": \"\",\n        \"description\": \"\"\n      }\n    },\n    {\n      \"column\": 766769,\n      \"properties\": {\n        \"dtype\": \"string\",\n        \"num_unique_values\": 2,\n        \"samples\": [\n          \"Counter Argument: Men are not a detriment to societal cohesion; in fact, they play an important role in creating strong communities. Men provide leadership and mentorship, contribute to the economy as providers, and provide support to their families. Furthermore, men are often involved in activities that benefit the community, such as volunteering with charities or coaching youth sports teams. Without the contributions of men, our society would suffer significantly.\",\n          \"Text-Davinci-003\"\n        ],\n        \"semantic_type\": \"\",\n        \"description\": \"\"\n      }\n    },\n    {\n      \"column\": 693872,\n      \"properties\": {\n        \"dtype\": \"string\",\n        \"num_unique_values\": 2,\n        \"samples\": [\n          \" Tennessee Williams is one of the most important American playwrights of the 20th century. His plays are known for their exploration of complex themes such as gender, sexuality, and race. In this essay, I will discuss the depiction of gender and sexuality in Williams's plays.\\n\\nOne of the most striking things about Williams's plays is the way in which he challenges traditional gender roles. In many of his plays, women are depicted as strong and independent, while men are often weak and dependent. For example, in The Glass Menagerie, Amanda Wingfield is a strong and determined woman who is trying to raise her two children on her own. Her husband, on the other hand, is a weak and alcoholic man who has abandoned the family.\\n\\nWilliams also challenges traditional notions of sexuality in his plays. In many of his plays, there are characters who are gay or bisexual. For example, in Cat on a Hot Tin Roof, Brick Pollitt is a bisexual man who is struggling to come to terms with his sexuality. Williams's plays also often depict the sexual exploitation of women. For example, in A Streetcar Named Desire, Blanche DuBois is a woman who has been sexually abused by her husband.\\n\\nWilliams's depiction of gender and sexuality in his plays is often controversial. Some critics have accused him of misogyny and homophobia. However, others have praised him for his honest and unflinching portrayal of these complex issues. Regardless of one's opinion of Williams's work, there is no doubt that he is one of the most important American playwrights of the 20th century. His plays continue to be performed and studied all over the world, and they continue to challenge and provoke audiences.\\n\\nIn addition to the plays mentioned above, Williams also wrote other plays that explore gender and sexuality, such as Suddenly Last Summer, Orpheus Descending, and Sweet Bird of Youth. In these plays, Williams continues to challenge traditional gender roles and explore the complex issues of sexuality. \\n\\nThe depiction of gender and sexuality in Williams's plays is complex and multifaceted. There is no one answer to the question of how Williams views these issues. However, it is clear that Williams was a playwright who was not afraid to tackle difficult and controversial subjects. His plays offer a unique and valuable perspective on gender and sexuality, and they continue to be relevant to audiences today.\",\n          \"PaLM-2\"\n        ],\n        \"semantic_type\": \"\",\n        \"description\": \"\"\n      }\n    },\n    {\n      \"column\": 699138,\n      \"properties\": {\n        \"dtype\": \"string\",\n        \"num_unique_values\": 2,\n        \"samples\": [\n          \" The influence of digital media on political polarization is a complex and multifaceted issue. On the one hand, digital media can provide people with access to a wider range of information and perspectives, which can help to break down echo chambers and promote more informed and nuanced political discourse. On the other hand, digital media can also be used to spread misinformation and propaganda, which can further entrench existing divisions and make it more difficult to find common ground.\\n\\nOne of the most significant ways that digital media has contributed to political polarization is by creating echo chambers. Echo chambers are online spaces where people are exposed to information and opinions that reinforce their existing beliefs. This can lead to a narrowing of perspectives and a decreased willingness to consider alternative viewpoints. In the United States, for example, a 2018 study by the Pew Research Center found that people who get their news from social media are more likely to be politically polarized than those who get their news from traditional media sources such as newspapers and television.\\n\\nAnother way that digital media has contributed to political polarization is by making it easier for people to spread misinformation and propaganda. Misinformation is false or inaccurate information that is unintentionally spread, while propaganda is false or inaccurate information that is intentionally spread to promote a particular point of view. Both misinformation and propaganda can be spread quickly and easily through digital media, and they can have a significant impact on public opinion. For example, a 2017 study by the RAND Corporation found that Russian trolls were able to spread misinformation and propaganda on social media during the 2016 US presidential election, which may have influenced the outcome of the election.\\n\\nHowever, digital media can also be used to promote more informed and nuanced political discourse. By providing access to a wider range of information and perspectives, digital media can help people to break down echo chambers and develop a more nuanced understanding of the issues. Additionally, digital media can be used to facilitate dialogue between people with different political views, which can help to build bridges and reduce polarization.\\n\\nUltimately, the impact of digital media on political polarization is a complex and multifaceted issue. There are both positive and negative effects, and the overall impact depends on how digital media is used. It is important to be aware of the potential risks of digital media, but it is also important to recognize the potential benefits. By using digital media wisely, we can help to mitigate the negative effects and promote more informed and nuanced political discourse.\",\n          \"PaLM-2\"\n        ],\n        \"semantic_type\": \"\",\n        \"description\": \"\"\n      }\n    }\n  ]\n}"
            }
          },
          "metadata": {},
          "execution_count": 5
        }
      ]
    },
    {
      "cell_type": "code",
      "source": [
        "df.isnull().sum()"
      ],
      "metadata": {
        "id": "KUGi2ttlr7ZI",
        "colab": {
          "base_uri": "https://localhost:8080/"
        },
        "outputId": "8e1e1670-64b5-4621-9e1a-1397d8c41829"
      },
      "execution_count": null,
      "outputs": [
        {
          "output_type": "execute_result",
          "data": {
            "text/plain": [
              "label    0\n",
              "title    0\n",
              "dtype: int64"
            ]
          },
          "metadata": {},
          "execution_count": 6
        }
      ]
    },
    {
      "cell_type": "code",
      "source": [
        "df.columns"
      ],
      "metadata": {
        "id": "ixflbh7MrQbA",
        "outputId": "622aac0b-1dfd-400b-d258-72e21aa5bb5e",
        "colab": {
          "base_uri": "https://localhost:8080/"
        }
      },
      "execution_count": null,
      "outputs": [
        {
          "output_type": "execute_result",
          "data": {
            "text/plain": [
              "Index(['label', 'title'], dtype='object')"
            ]
          },
          "metadata": {},
          "execution_count": 7
        }
      ]
    },
    {
      "cell_type": "code",
      "source": [
        "df.shape"
      ],
      "metadata": {
        "id": "hqMydrcTp_0O",
        "outputId": "1adeb1a9-5732-4bac-f812-ff2634d334aa",
        "colab": {
          "base_uri": "https://localhost:8080/"
        }
      },
      "execution_count": null,
      "outputs": [
        {
          "output_type": "execute_result",
          "data": {
            "text/plain": [
              "(788922, 2)"
            ]
          },
          "metadata": {},
          "execution_count": 8
        }
      ]
    },
    {
      "cell_type": "code",
      "source": [
        "df_testing = df.copy()"
      ],
      "metadata": {
        "id": "Osiuy6ovwiow"
      },
      "execution_count": null,
      "outputs": []
    },
    {
      "cell_type": "code",
      "source": [
        "df_testing = df_testing.rename(columns={\"label\": \"Author\", \"title\": \"Content\"})"
      ],
      "metadata": {
        "id": "0u59JyoLwurO"
      },
      "execution_count": null,
      "outputs": []
    },
    {
      "cell_type": "code",
      "source": [
        "df_testing"
      ],
      "metadata": {
        "colab": {
          "base_uri": "https://localhost:8080/",
          "height": 423
        },
        "id": "sqbTf9nzz0ru",
        "outputId": "6d1e157c-ef36-4ded-bb98-456352b396ad"
      },
      "execution_count": null,
      "outputs": [
        {
          "output_type": "execute_result",
          "data": {
            "text/plain": [
              "          Author                                            Content\n",
              "0       Bloom-7B  Federal law supersedes state law, and cannabis...\n",
              "1       Bloom-7B  Miles feels restless after working all day. He...\n",
              "2       Bloom-7B  So first of I am danish. That means that I fol...\n",
              "3       Bloom-7B  In this paper we present a novel rule-based ap...\n",
              "4       Bloom-7B  Most social progressives, love democracy, and ...\n",
              "...          ...                                                ...\n",
              "788917    YI-34B  \\nIn the vast expanse of time, where the echoe...\n",
              "788918    YI-34B  \\nThe phenomenon of brain drain, particularly ...\n",
              "788919    YI-34B  \\nThe Influence of Climate Change on Marine Ec...\n",
              "788920    YI-34B  \\nTitle: The Case for Limiting Car Usage: Navi...\n",
              "788921    YI-34B  \\nIn the vast expanse of a globalized society,...\n",
              "\n",
              "[788922 rows x 2 columns]"
            ],
            "text/html": [
              "\n",
              "  <div id=\"df-b5587f6b-e062-4a4f-99eb-b57001762fd6\" class=\"colab-df-container\">\n",
              "    <div>\n",
              "<style scoped>\n",
              "    .dataframe tbody tr th:only-of-type {\n",
              "        vertical-align: middle;\n",
              "    }\n",
              "\n",
              "    .dataframe tbody tr th {\n",
              "        vertical-align: top;\n",
              "    }\n",
              "\n",
              "    .dataframe thead th {\n",
              "        text-align: right;\n",
              "    }\n",
              "</style>\n",
              "<table border=\"1\" class=\"dataframe\">\n",
              "  <thead>\n",
              "    <tr style=\"text-align: right;\">\n",
              "      <th></th>\n",
              "      <th>Author</th>\n",
              "      <th>Content</th>\n",
              "    </tr>\n",
              "  </thead>\n",
              "  <tbody>\n",
              "    <tr>\n",
              "      <th>0</th>\n",
              "      <td>Bloom-7B</td>\n",
              "      <td>Federal law supersedes state law, and cannabis...</td>\n",
              "    </tr>\n",
              "    <tr>\n",
              "      <th>1</th>\n",
              "      <td>Bloom-7B</td>\n",
              "      <td>Miles feels restless after working all day. He...</td>\n",
              "    </tr>\n",
              "    <tr>\n",
              "      <th>2</th>\n",
              "      <td>Bloom-7B</td>\n",
              "      <td>So first of I am danish. That means that I fol...</td>\n",
              "    </tr>\n",
              "    <tr>\n",
              "      <th>3</th>\n",
              "      <td>Bloom-7B</td>\n",
              "      <td>In this paper we present a novel rule-based ap...</td>\n",
              "    </tr>\n",
              "    <tr>\n",
              "      <th>4</th>\n",
              "      <td>Bloom-7B</td>\n",
              "      <td>Most social progressives, love democracy, and ...</td>\n",
              "    </tr>\n",
              "    <tr>\n",
              "      <th>...</th>\n",
              "      <td>...</td>\n",
              "      <td>...</td>\n",
              "    </tr>\n",
              "    <tr>\n",
              "      <th>788917</th>\n",
              "      <td>YI-34B</td>\n",
              "      <td>\\nIn the vast expanse of time, where the echoe...</td>\n",
              "    </tr>\n",
              "    <tr>\n",
              "      <th>788918</th>\n",
              "      <td>YI-34B</td>\n",
              "      <td>\\nThe phenomenon of brain drain, particularly ...</td>\n",
              "    </tr>\n",
              "    <tr>\n",
              "      <th>788919</th>\n",
              "      <td>YI-34B</td>\n",
              "      <td>\\nThe Influence of Climate Change on Marine Ec...</td>\n",
              "    </tr>\n",
              "    <tr>\n",
              "      <th>788920</th>\n",
              "      <td>YI-34B</td>\n",
              "      <td>\\nTitle: The Case for Limiting Car Usage: Navi...</td>\n",
              "    </tr>\n",
              "    <tr>\n",
              "      <th>788921</th>\n",
              "      <td>YI-34B</td>\n",
              "      <td>\\nIn the vast expanse of a globalized society,...</td>\n",
              "    </tr>\n",
              "  </tbody>\n",
              "</table>\n",
              "<p>788922 rows × 2 columns</p>\n",
              "</div>\n",
              "    <div class=\"colab-df-buttons\">\n",
              "\n",
              "  <div class=\"colab-df-container\">\n",
              "    <button class=\"colab-df-convert\" onclick=\"convertToInteractive('df-b5587f6b-e062-4a4f-99eb-b57001762fd6')\"\n",
              "            title=\"Convert this dataframe to an interactive table.\"\n",
              "            style=\"display:none;\">\n",
              "\n",
              "  <svg xmlns=\"http://www.w3.org/2000/svg\" height=\"24px\" viewBox=\"0 -960 960 960\">\n",
              "    <path d=\"M120-120v-720h720v720H120Zm60-500h600v-160H180v160Zm220 220h160v-160H400v160Zm0 220h160v-160H400v160ZM180-400h160v-160H180v160Zm440 0h160v-160H620v160ZM180-180h160v-160H180v160Zm440 0h160v-160H620v160Z\"/>\n",
              "  </svg>\n",
              "    </button>\n",
              "\n",
              "  <style>\n",
              "    .colab-df-container {\n",
              "      display:flex;\n",
              "      gap: 12px;\n",
              "    }\n",
              "\n",
              "    .colab-df-convert {\n",
              "      background-color: #E8F0FE;\n",
              "      border: none;\n",
              "      border-radius: 50%;\n",
              "      cursor: pointer;\n",
              "      display: none;\n",
              "      fill: #1967D2;\n",
              "      height: 32px;\n",
              "      padding: 0 0 0 0;\n",
              "      width: 32px;\n",
              "    }\n",
              "\n",
              "    .colab-df-convert:hover {\n",
              "      background-color: #E2EBFA;\n",
              "      box-shadow: 0px 1px 2px rgba(60, 64, 67, 0.3), 0px 1px 3px 1px rgba(60, 64, 67, 0.15);\n",
              "      fill: #174EA6;\n",
              "    }\n",
              "\n",
              "    .colab-df-buttons div {\n",
              "      margin-bottom: 4px;\n",
              "    }\n",
              "\n",
              "    [theme=dark] .colab-df-convert {\n",
              "      background-color: #3B4455;\n",
              "      fill: #D2E3FC;\n",
              "    }\n",
              "\n",
              "    [theme=dark] .colab-df-convert:hover {\n",
              "      background-color: #434B5C;\n",
              "      box-shadow: 0px 1px 3px 1px rgba(0, 0, 0, 0.15);\n",
              "      filter: drop-shadow(0px 1px 2px rgba(0, 0, 0, 0.3));\n",
              "      fill: #FFFFFF;\n",
              "    }\n",
              "  </style>\n",
              "\n",
              "    <script>\n",
              "      const buttonEl =\n",
              "        document.querySelector('#df-b5587f6b-e062-4a4f-99eb-b57001762fd6 button.colab-df-convert');\n",
              "      buttonEl.style.display =\n",
              "        google.colab.kernel.accessAllowed ? 'block' : 'none';\n",
              "\n",
              "      async function convertToInteractive(key) {\n",
              "        const element = document.querySelector('#df-b5587f6b-e062-4a4f-99eb-b57001762fd6');\n",
              "        const dataTable =\n",
              "          await google.colab.kernel.invokeFunction('convertToInteractive',\n",
              "                                                    [key], {});\n",
              "        if (!dataTable) return;\n",
              "\n",
              "        const docLinkHtml = 'Like what you see? Visit the ' +\n",
              "          '<a target=\"_blank\" href=https://colab.research.google.com/notebooks/data_table.ipynb>data table notebook</a>'\n",
              "          + ' to learn more about interactive tables.';\n",
              "        element.innerHTML = '';\n",
              "        dataTable['output_type'] = 'display_data';\n",
              "        await google.colab.output.renderOutput(dataTable, element);\n",
              "        const docLink = document.createElement('div');\n",
              "        docLink.innerHTML = docLinkHtml;\n",
              "        element.appendChild(docLink);\n",
              "      }\n",
              "    </script>\n",
              "  </div>\n",
              "\n",
              "\n",
              "<div id=\"df-43cd6d9b-0cff-446f-ac82-db099cec4ee3\">\n",
              "  <button class=\"colab-df-quickchart\" onclick=\"quickchart('df-43cd6d9b-0cff-446f-ac82-db099cec4ee3')\"\n",
              "            title=\"Suggest charts\"\n",
              "            style=\"display:none;\">\n",
              "\n",
              "<svg xmlns=\"http://www.w3.org/2000/svg\" height=\"24px\"viewBox=\"0 0 24 24\"\n",
              "     width=\"24px\">\n",
              "    <g>\n",
              "        <path d=\"M19 3H5c-1.1 0-2 .9-2 2v14c0 1.1.9 2 2 2h14c1.1 0 2-.9 2-2V5c0-1.1-.9-2-2-2zM9 17H7v-7h2v7zm4 0h-2V7h2v10zm4 0h-2v-4h2v4z\"/>\n",
              "    </g>\n",
              "</svg>\n",
              "  </button>\n",
              "\n",
              "<style>\n",
              "  .colab-df-quickchart {\n",
              "      --bg-color: #E8F0FE;\n",
              "      --fill-color: #1967D2;\n",
              "      --hover-bg-color: #E2EBFA;\n",
              "      --hover-fill-color: #174EA6;\n",
              "      --disabled-fill-color: #AAA;\n",
              "      --disabled-bg-color: #DDD;\n",
              "  }\n",
              "\n",
              "  [theme=dark] .colab-df-quickchart {\n",
              "      --bg-color: #3B4455;\n",
              "      --fill-color: #D2E3FC;\n",
              "      --hover-bg-color: #434B5C;\n",
              "      --hover-fill-color: #FFFFFF;\n",
              "      --disabled-bg-color: #3B4455;\n",
              "      --disabled-fill-color: #666;\n",
              "  }\n",
              "\n",
              "  .colab-df-quickchart {\n",
              "    background-color: var(--bg-color);\n",
              "    border: none;\n",
              "    border-radius: 50%;\n",
              "    cursor: pointer;\n",
              "    display: none;\n",
              "    fill: var(--fill-color);\n",
              "    height: 32px;\n",
              "    padding: 0;\n",
              "    width: 32px;\n",
              "  }\n",
              "\n",
              "  .colab-df-quickchart:hover {\n",
              "    background-color: var(--hover-bg-color);\n",
              "    box-shadow: 0 1px 2px rgba(60, 64, 67, 0.3), 0 1px 3px 1px rgba(60, 64, 67, 0.15);\n",
              "    fill: var(--button-hover-fill-color);\n",
              "  }\n",
              "\n",
              "  .colab-df-quickchart-complete:disabled,\n",
              "  .colab-df-quickchart-complete:disabled:hover {\n",
              "    background-color: var(--disabled-bg-color);\n",
              "    fill: var(--disabled-fill-color);\n",
              "    box-shadow: none;\n",
              "  }\n",
              "\n",
              "  .colab-df-spinner {\n",
              "    border: 2px solid var(--fill-color);\n",
              "    border-color: transparent;\n",
              "    border-bottom-color: var(--fill-color);\n",
              "    animation:\n",
              "      spin 1s steps(1) infinite;\n",
              "  }\n",
              "\n",
              "  @keyframes spin {\n",
              "    0% {\n",
              "      border-color: transparent;\n",
              "      border-bottom-color: var(--fill-color);\n",
              "      border-left-color: var(--fill-color);\n",
              "    }\n",
              "    20% {\n",
              "      border-color: transparent;\n",
              "      border-left-color: var(--fill-color);\n",
              "      border-top-color: var(--fill-color);\n",
              "    }\n",
              "    30% {\n",
              "      border-color: transparent;\n",
              "      border-left-color: var(--fill-color);\n",
              "      border-top-color: var(--fill-color);\n",
              "      border-right-color: var(--fill-color);\n",
              "    }\n",
              "    40% {\n",
              "      border-color: transparent;\n",
              "      border-right-color: var(--fill-color);\n",
              "      border-top-color: var(--fill-color);\n",
              "    }\n",
              "    60% {\n",
              "      border-color: transparent;\n",
              "      border-right-color: var(--fill-color);\n",
              "    }\n",
              "    80% {\n",
              "      border-color: transparent;\n",
              "      border-right-color: var(--fill-color);\n",
              "      border-bottom-color: var(--fill-color);\n",
              "    }\n",
              "    90% {\n",
              "      border-color: transparent;\n",
              "      border-bottom-color: var(--fill-color);\n",
              "    }\n",
              "  }\n",
              "</style>\n",
              "\n",
              "  <script>\n",
              "    async function quickchart(key) {\n",
              "      const quickchartButtonEl =\n",
              "        document.querySelector('#' + key + ' button');\n",
              "      quickchartButtonEl.disabled = true;  // To prevent multiple clicks.\n",
              "      quickchartButtonEl.classList.add('colab-df-spinner');\n",
              "      try {\n",
              "        const charts = await google.colab.kernel.invokeFunction(\n",
              "            'suggestCharts', [key], {});\n",
              "      } catch (error) {\n",
              "        console.error('Error during call to suggestCharts:', error);\n",
              "      }\n",
              "      quickchartButtonEl.classList.remove('colab-df-spinner');\n",
              "      quickchartButtonEl.classList.add('colab-df-quickchart-complete');\n",
              "    }\n",
              "    (() => {\n",
              "      let quickchartButtonEl =\n",
              "        document.querySelector('#df-43cd6d9b-0cff-446f-ac82-db099cec4ee3 button');\n",
              "      quickchartButtonEl.style.display =\n",
              "        google.colab.kernel.accessAllowed ? 'block' : 'none';\n",
              "    })();\n",
              "  </script>\n",
              "</div>\n",
              "    </div>\n",
              "  </div>\n"
            ],
            "application/vnd.google.colaboratory.intrinsic+json": {
              "type": "dataframe",
              "variable_name": "df_testing"
            }
          },
          "metadata": {},
          "execution_count": 11
        }
      ]
    },
    {
      "cell_type": "code",
      "source": [
        "df_testing['Content'] = df_testing['Content'].apply(lambda x: x.replace('\\n', ' '))"
      ],
      "metadata": {
        "id": "lh2Hl2sMw7HO"
      },
      "execution_count": null,
      "outputs": []
    },
    {
      "cell_type": "code",
      "source": [
        "df_testing['Content']"
      ],
      "metadata": {
        "colab": {
          "base_uri": "https://localhost:8080/"
        },
        "id": "IulBztCJxdMu",
        "outputId": "d3578bfc-e8c2-4538-faef-47a8e0138df5"
      },
      "execution_count": null,
      "outputs": [
        {
          "output_type": "execute_result",
          "data": {
            "text/plain": [
              "0         Federal law supersedes state law, and cannabis...\n",
              "1         Miles feels restless after working all day. He...\n",
              "2         So first of I am danish. That means that I fol...\n",
              "3         In this paper we present a novel rule-based ap...\n",
              "4         Most social progressives, love democracy, and ...\n",
              "                                ...                        \n",
              "788917     In the vast expanse of time, where the echoes...\n",
              "788918     The phenomenon of brain drain, particularly i...\n",
              "788919     The Influence of Climate Change on Marine Eco...\n",
              "788920     Title: The Case for Limiting Car Usage: Navig...\n",
              "788921     In the vast expanse of a globalized society, ...\n",
              "Name: Content, Length: 788922, dtype: object"
            ]
          },
          "metadata": {},
          "execution_count": 13
        }
      ]
    },
    {
      "cell_type": "code",
      "source": [
        "df_testing['Author'].where(df_testing['Author'] != 'Human', 'LLM')"
      ],
      "metadata": {
        "colab": {
          "base_uri": "https://localhost:8080/"
        },
        "id": "-bSrVXjcy93A",
        "outputId": "eb735a8e-008c-4d32-8bbf-5c11a7436a91"
      },
      "execution_count": null,
      "outputs": [
        {
          "output_type": "execute_result",
          "data": {
            "text/plain": [
              "0         Bloom-7B\n",
              "1         Bloom-7B\n",
              "2         Bloom-7B\n",
              "3         Bloom-7B\n",
              "4         Bloom-7B\n",
              "            ...   \n",
              "788917      YI-34B\n",
              "788918      YI-34B\n",
              "788919      YI-34B\n",
              "788920      YI-34B\n",
              "788921      YI-34B\n",
              "Name: Author, Length: 788922, dtype: object"
            ]
          },
          "metadata": {},
          "execution_count": 14
        }
      ]
    },
    {
      "cell_type": "code",
      "source": [
        "df_testing"
      ],
      "metadata": {
        "colab": {
          "base_uri": "https://localhost:8080/",
          "height": 423
        },
        "id": "4KV3iMtUzwnM",
        "outputId": "5917647f-14c4-496d-923c-dd72b3d0ce36"
      },
      "execution_count": null,
      "outputs": [
        {
          "output_type": "execute_result",
          "data": {
            "text/plain": [
              "          Author                                            Content\n",
              "0       Bloom-7B  Federal law supersedes state law, and cannabis...\n",
              "1       Bloom-7B  Miles feels restless after working all day. He...\n",
              "2       Bloom-7B  So first of I am danish. That means that I fol...\n",
              "3       Bloom-7B  In this paper we present a novel rule-based ap...\n",
              "4       Bloom-7B  Most social progressives, love democracy, and ...\n",
              "...          ...                                                ...\n",
              "788917    YI-34B   In the vast expanse of time, where the echoes...\n",
              "788918    YI-34B   The phenomenon of brain drain, particularly i...\n",
              "788919    YI-34B   The Influence of Climate Change on Marine Eco...\n",
              "788920    YI-34B   Title: The Case for Limiting Car Usage: Navig...\n",
              "788921    YI-34B   In the vast expanse of a globalized society, ...\n",
              "\n",
              "[788922 rows x 2 columns]"
            ],
            "text/html": [
              "\n",
              "  <div id=\"df-4ab3e2ef-804d-4a6e-90b2-7f560165fb35\" class=\"colab-df-container\">\n",
              "    <div>\n",
              "<style scoped>\n",
              "    .dataframe tbody tr th:only-of-type {\n",
              "        vertical-align: middle;\n",
              "    }\n",
              "\n",
              "    .dataframe tbody tr th {\n",
              "        vertical-align: top;\n",
              "    }\n",
              "\n",
              "    .dataframe thead th {\n",
              "        text-align: right;\n",
              "    }\n",
              "</style>\n",
              "<table border=\"1\" class=\"dataframe\">\n",
              "  <thead>\n",
              "    <tr style=\"text-align: right;\">\n",
              "      <th></th>\n",
              "      <th>Author</th>\n",
              "      <th>Content</th>\n",
              "    </tr>\n",
              "  </thead>\n",
              "  <tbody>\n",
              "    <tr>\n",
              "      <th>0</th>\n",
              "      <td>Bloom-7B</td>\n",
              "      <td>Federal law supersedes state law, and cannabis...</td>\n",
              "    </tr>\n",
              "    <tr>\n",
              "      <th>1</th>\n",
              "      <td>Bloom-7B</td>\n",
              "      <td>Miles feels restless after working all day. He...</td>\n",
              "    </tr>\n",
              "    <tr>\n",
              "      <th>2</th>\n",
              "      <td>Bloom-7B</td>\n",
              "      <td>So first of I am danish. That means that I fol...</td>\n",
              "    </tr>\n",
              "    <tr>\n",
              "      <th>3</th>\n",
              "      <td>Bloom-7B</td>\n",
              "      <td>In this paper we present a novel rule-based ap...</td>\n",
              "    </tr>\n",
              "    <tr>\n",
              "      <th>4</th>\n",
              "      <td>Bloom-7B</td>\n",
              "      <td>Most social progressives, love democracy, and ...</td>\n",
              "    </tr>\n",
              "    <tr>\n",
              "      <th>...</th>\n",
              "      <td>...</td>\n",
              "      <td>...</td>\n",
              "    </tr>\n",
              "    <tr>\n",
              "      <th>788917</th>\n",
              "      <td>YI-34B</td>\n",
              "      <td>In the vast expanse of time, where the echoes...</td>\n",
              "    </tr>\n",
              "    <tr>\n",
              "      <th>788918</th>\n",
              "      <td>YI-34B</td>\n",
              "      <td>The phenomenon of brain drain, particularly i...</td>\n",
              "    </tr>\n",
              "    <tr>\n",
              "      <th>788919</th>\n",
              "      <td>YI-34B</td>\n",
              "      <td>The Influence of Climate Change on Marine Eco...</td>\n",
              "    </tr>\n",
              "    <tr>\n",
              "      <th>788920</th>\n",
              "      <td>YI-34B</td>\n",
              "      <td>Title: The Case for Limiting Car Usage: Navig...</td>\n",
              "    </tr>\n",
              "    <tr>\n",
              "      <th>788921</th>\n",
              "      <td>YI-34B</td>\n",
              "      <td>In the vast expanse of a globalized society, ...</td>\n",
              "    </tr>\n",
              "  </tbody>\n",
              "</table>\n",
              "<p>788922 rows × 2 columns</p>\n",
              "</div>\n",
              "    <div class=\"colab-df-buttons\">\n",
              "\n",
              "  <div class=\"colab-df-container\">\n",
              "    <button class=\"colab-df-convert\" onclick=\"convertToInteractive('df-4ab3e2ef-804d-4a6e-90b2-7f560165fb35')\"\n",
              "            title=\"Convert this dataframe to an interactive table.\"\n",
              "            style=\"display:none;\">\n",
              "\n",
              "  <svg xmlns=\"http://www.w3.org/2000/svg\" height=\"24px\" viewBox=\"0 -960 960 960\">\n",
              "    <path d=\"M120-120v-720h720v720H120Zm60-500h600v-160H180v160Zm220 220h160v-160H400v160Zm0 220h160v-160H400v160ZM180-400h160v-160H180v160Zm440 0h160v-160H620v160ZM180-180h160v-160H180v160Zm440 0h160v-160H620v160Z\"/>\n",
              "  </svg>\n",
              "    </button>\n",
              "\n",
              "  <style>\n",
              "    .colab-df-container {\n",
              "      display:flex;\n",
              "      gap: 12px;\n",
              "    }\n",
              "\n",
              "    .colab-df-convert {\n",
              "      background-color: #E8F0FE;\n",
              "      border: none;\n",
              "      border-radius: 50%;\n",
              "      cursor: pointer;\n",
              "      display: none;\n",
              "      fill: #1967D2;\n",
              "      height: 32px;\n",
              "      padding: 0 0 0 0;\n",
              "      width: 32px;\n",
              "    }\n",
              "\n",
              "    .colab-df-convert:hover {\n",
              "      background-color: #E2EBFA;\n",
              "      box-shadow: 0px 1px 2px rgba(60, 64, 67, 0.3), 0px 1px 3px 1px rgba(60, 64, 67, 0.15);\n",
              "      fill: #174EA6;\n",
              "    }\n",
              "\n",
              "    .colab-df-buttons div {\n",
              "      margin-bottom: 4px;\n",
              "    }\n",
              "\n",
              "    [theme=dark] .colab-df-convert {\n",
              "      background-color: #3B4455;\n",
              "      fill: #D2E3FC;\n",
              "    }\n",
              "\n",
              "    [theme=dark] .colab-df-convert:hover {\n",
              "      background-color: #434B5C;\n",
              "      box-shadow: 0px 1px 3px 1px rgba(0, 0, 0, 0.15);\n",
              "      filter: drop-shadow(0px 1px 2px rgba(0, 0, 0, 0.3));\n",
              "      fill: #FFFFFF;\n",
              "    }\n",
              "  </style>\n",
              "\n",
              "    <script>\n",
              "      const buttonEl =\n",
              "        document.querySelector('#df-4ab3e2ef-804d-4a6e-90b2-7f560165fb35 button.colab-df-convert');\n",
              "      buttonEl.style.display =\n",
              "        google.colab.kernel.accessAllowed ? 'block' : 'none';\n",
              "\n",
              "      async function convertToInteractive(key) {\n",
              "        const element = document.querySelector('#df-4ab3e2ef-804d-4a6e-90b2-7f560165fb35');\n",
              "        const dataTable =\n",
              "          await google.colab.kernel.invokeFunction('convertToInteractive',\n",
              "                                                    [key], {});\n",
              "        if (!dataTable) return;\n",
              "\n",
              "        const docLinkHtml = 'Like what you see? Visit the ' +\n",
              "          '<a target=\"_blank\" href=https://colab.research.google.com/notebooks/data_table.ipynb>data table notebook</a>'\n",
              "          + ' to learn more about interactive tables.';\n",
              "        element.innerHTML = '';\n",
              "        dataTable['output_type'] = 'display_data';\n",
              "        await google.colab.output.renderOutput(dataTable, element);\n",
              "        const docLink = document.createElement('div');\n",
              "        docLink.innerHTML = docLinkHtml;\n",
              "        element.appendChild(docLink);\n",
              "      }\n",
              "    </script>\n",
              "  </div>\n",
              "\n",
              "\n",
              "<div id=\"df-70a7d6c1-cbe0-46bc-92e0-2352b1e883c8\">\n",
              "  <button class=\"colab-df-quickchart\" onclick=\"quickchart('df-70a7d6c1-cbe0-46bc-92e0-2352b1e883c8')\"\n",
              "            title=\"Suggest charts\"\n",
              "            style=\"display:none;\">\n",
              "\n",
              "<svg xmlns=\"http://www.w3.org/2000/svg\" height=\"24px\"viewBox=\"0 0 24 24\"\n",
              "     width=\"24px\">\n",
              "    <g>\n",
              "        <path d=\"M19 3H5c-1.1 0-2 .9-2 2v14c0 1.1.9 2 2 2h14c1.1 0 2-.9 2-2V5c0-1.1-.9-2-2-2zM9 17H7v-7h2v7zm4 0h-2V7h2v10zm4 0h-2v-4h2v4z\"/>\n",
              "    </g>\n",
              "</svg>\n",
              "  </button>\n",
              "\n",
              "<style>\n",
              "  .colab-df-quickchart {\n",
              "      --bg-color: #E8F0FE;\n",
              "      --fill-color: #1967D2;\n",
              "      --hover-bg-color: #E2EBFA;\n",
              "      --hover-fill-color: #174EA6;\n",
              "      --disabled-fill-color: #AAA;\n",
              "      --disabled-bg-color: #DDD;\n",
              "  }\n",
              "\n",
              "  [theme=dark] .colab-df-quickchart {\n",
              "      --bg-color: #3B4455;\n",
              "      --fill-color: #D2E3FC;\n",
              "      --hover-bg-color: #434B5C;\n",
              "      --hover-fill-color: #FFFFFF;\n",
              "      --disabled-bg-color: #3B4455;\n",
              "      --disabled-fill-color: #666;\n",
              "  }\n",
              "\n",
              "  .colab-df-quickchart {\n",
              "    background-color: var(--bg-color);\n",
              "    border: none;\n",
              "    border-radius: 50%;\n",
              "    cursor: pointer;\n",
              "    display: none;\n",
              "    fill: var(--fill-color);\n",
              "    height: 32px;\n",
              "    padding: 0;\n",
              "    width: 32px;\n",
              "  }\n",
              "\n",
              "  .colab-df-quickchart:hover {\n",
              "    background-color: var(--hover-bg-color);\n",
              "    box-shadow: 0 1px 2px rgba(60, 64, 67, 0.3), 0 1px 3px 1px rgba(60, 64, 67, 0.15);\n",
              "    fill: var(--button-hover-fill-color);\n",
              "  }\n",
              "\n",
              "  .colab-df-quickchart-complete:disabled,\n",
              "  .colab-df-quickchart-complete:disabled:hover {\n",
              "    background-color: var(--disabled-bg-color);\n",
              "    fill: var(--disabled-fill-color);\n",
              "    box-shadow: none;\n",
              "  }\n",
              "\n",
              "  .colab-df-spinner {\n",
              "    border: 2px solid var(--fill-color);\n",
              "    border-color: transparent;\n",
              "    border-bottom-color: var(--fill-color);\n",
              "    animation:\n",
              "      spin 1s steps(1) infinite;\n",
              "  }\n",
              "\n",
              "  @keyframes spin {\n",
              "    0% {\n",
              "      border-color: transparent;\n",
              "      border-bottom-color: var(--fill-color);\n",
              "      border-left-color: var(--fill-color);\n",
              "    }\n",
              "    20% {\n",
              "      border-color: transparent;\n",
              "      border-left-color: var(--fill-color);\n",
              "      border-top-color: var(--fill-color);\n",
              "    }\n",
              "    30% {\n",
              "      border-color: transparent;\n",
              "      border-left-color: var(--fill-color);\n",
              "      border-top-color: var(--fill-color);\n",
              "      border-right-color: var(--fill-color);\n",
              "    }\n",
              "    40% {\n",
              "      border-color: transparent;\n",
              "      border-right-color: var(--fill-color);\n",
              "      border-top-color: var(--fill-color);\n",
              "    }\n",
              "    60% {\n",
              "      border-color: transparent;\n",
              "      border-right-color: var(--fill-color);\n",
              "    }\n",
              "    80% {\n",
              "      border-color: transparent;\n",
              "      border-right-color: var(--fill-color);\n",
              "      border-bottom-color: var(--fill-color);\n",
              "    }\n",
              "    90% {\n",
              "      border-color: transparent;\n",
              "      border-bottom-color: var(--fill-color);\n",
              "    }\n",
              "  }\n",
              "</style>\n",
              "\n",
              "  <script>\n",
              "    async function quickchart(key) {\n",
              "      const quickchartButtonEl =\n",
              "        document.querySelector('#' + key + ' button');\n",
              "      quickchartButtonEl.disabled = true;  // To prevent multiple clicks.\n",
              "      quickchartButtonEl.classList.add('colab-df-spinner');\n",
              "      try {\n",
              "        const charts = await google.colab.kernel.invokeFunction(\n",
              "            'suggestCharts', [key], {});\n",
              "      } catch (error) {\n",
              "        console.error('Error during call to suggestCharts:', error);\n",
              "      }\n",
              "      quickchartButtonEl.classList.remove('colab-df-spinner');\n",
              "      quickchartButtonEl.classList.add('colab-df-quickchart-complete');\n",
              "    }\n",
              "    (() => {\n",
              "      let quickchartButtonEl =\n",
              "        document.querySelector('#df-70a7d6c1-cbe0-46bc-92e0-2352b1e883c8 button');\n",
              "      quickchartButtonEl.style.display =\n",
              "        google.colab.kernel.accessAllowed ? 'block' : 'none';\n",
              "    })();\n",
              "  </script>\n",
              "</div>\n",
              "    </div>\n",
              "  </div>\n"
            ],
            "application/vnd.google.colaboratory.intrinsic+json": {
              "type": "dataframe",
              "variable_name": "df_testing"
            }
          },
          "metadata": {},
          "execution_count": 15
        }
      ]
    },
    {
      "cell_type": "code",
      "source": [
        "df_testing.loc[df_testing['Author'] != 'Human', 'Author'] = 'LLM'"
      ],
      "metadata": {
        "id": "WFfpA2Aiz6oT"
      },
      "execution_count": null,
      "outputs": []
    },
    {
      "cell_type": "code",
      "source": [
        "df_testing['Author'].value_counts()"
      ],
      "metadata": {
        "colab": {
          "base_uri": "https://localhost:8080/"
        },
        "id": "s90kHn8v1FeQ",
        "outputId": "c31bda49-37a2-40a8-e82a-5369fb4177d3"
      },
      "execution_count": null,
      "outputs": [
        {
          "output_type": "execute_result",
          "data": {
            "text/plain": [
              "Author\n",
              "LLM      441230\n",
              "Human    347692\n",
              "Name: count, dtype: int64"
            ]
          },
          "metadata": {},
          "execution_count": 19
        }
      ]
    },
    {
      "cell_type": "code",
      "source": [
        "import matplotlib.pyplot as plt\n",
        "\n",
        "authors = ['LLM', 'Human']\n",
        "counts = [441230, 347692]\n",
        "\n",
        "fig, ax = plt.subplots()\n",
        "\n",
        "bars = ax.bar(authors, counts, color=['coral', 'lightblue'])\n",
        "\n",
        "ax.set_ylim(0, 500000)\n",
        "ax.set_title('Author Count')\n",
        "ax.set_xlabel('Author')\n",
        "ax.set_ylabel('Count')\n",
        "\n",
        "for bar in bars:\n",
        "    height = bar.get_height()\n",
        "    ax.annotate('{}'.format(height),\n",
        "                xy=(bar.get_x() + bar.get_width() / 2, height),\n",
        "                xytext=(0, 3),\n",
        "                textcoords=\"offset points\",\n",
        "                ha='center', va='bottom')\n",
        "\n",
        "plt.show()"
      ],
      "metadata": {
        "colab": {
          "base_uri": "https://localhost:8080/",
          "height": 472
        },
        "id": "fnA04PBP2Jr0",
        "outputId": "0428a722-212c-4598-cc2d-52933b6a415c"
      },
      "execution_count": null,
      "outputs": [
        {
          "output_type": "display_data",
          "data": {
            "text/plain": [
              "<Figure size 640x480 with 1 Axes>"
            ],
            "image/png": "[encoded data removed]"
          },
          "metadata": {}
        }
      ]
    },
    {
      "cell_type": "markdown",
      "source": [
        "## The data set does not seem unbalanced"
      ],
      "metadata": {
        "id": "wQhoTXi-39pp"
      }
    },
    {
      "cell_type": "code",
      "source": [
        "nltk.download('stopwords')"
      ],
      "metadata": {
        "colab": {
          "base_uri": "https://localhost:8080/"
        },
        "id": "X_zyAj4U3gQg",
        "outputId": "b8575fe3-7bbb-4d0b-ce59-794d4518a7a0"
      },
      "execution_count": null,
      "outputs": [
        {
          "output_type": "stream",
          "name": "stderr",
          "text": [
            "[nltk_data] Downloading package stopwords to /root/nltk_data...\n",
            "[nltk_data]   Package stopwords is already up-to-date!\n"
          ]
        },
        {
          "output_type": "execute_result",
          "data": {
            "text/plain": [
              "True"
            ]
          },
          "metadata": {},
          "execution_count": 21
        }
      ]
    },
    {
      "cell_type": "code",
      "source": [
        "from nltk.stem import WordNetLemmatizer\n",
        "\n",
        "lm = WordNetLemmatizer()"
      ],
      "metadata": {
        "id": "aKTeYFDdRcpE"
      },
      "execution_count": null,
      "outputs": []
    },
    {
      "cell_type": "code",
      "source": [
        "nltk.download('wordnet')"
      ],
      "metadata": {
        "colab": {
          "base_uri": "https://localhost:8080/"
        },
        "id": "VB1Gqs-5R-4B",
        "outputId": "b6c4fc40-375b-41f6-fdb1-5d1e7846cc99"
      },
      "execution_count": null,
      "outputs": [
        {
          "output_type": "stream",
          "name": "stderr",
          "text": [
            "[nltk_data] Downloading package wordnet to /root/nltk_data...\n"
          ]
        },
        {
          "output_type": "execute_result",
          "data": {
            "text/plain": [
              "True"
            ]
          },
          "metadata": {},
          "execution_count": 24
        }
      ]
    },
    {
      "cell_type": "code",
      "source": [],
      "metadata": {
        "id": "fgtB5ntSqPkw"
      },
      "execution_count": null,
      "outputs": []
    },
    {
      "cell_type": "code",
      "source": [
        "# \\/ 21m"
      ],
      "metadata": {
        "id": "jB5Cf1BGNOC2"
      },
      "execution_count": null,
      "outputs": []
    },
    {
      "cell_type": "code",
      "source": [
        "punct = set(string.punctuation)\n",
        "# stopwords = set(stopwords.words('english'))\n",
        "stopwords_set = set(stopwords.words('english'))\n",
        "corpus = []\n",
        "\n",
        "for i in range(len(df_testing)):\n",
        "  text = df_testing['Content'].iloc[i].lower()\n",
        "  text = text.translate(str.maketrans('', '', string.punctuation)).split()\n",
        "  text = [lm.lemmatize(word) for word in text if word not in stopwords_set]\n",
        "  text = ' '.join(text)\n",
        "  corpus.append(text)"
      ],
      "metadata": {
        "id": "fG8qdhZWQPZ3"
      },
      "execution_count": null,
      "outputs": []
    },
    {
      "cell_type": "code",
      "source": [
        "corpus[0]"
      ],
      "metadata": {
        "colab": {
          "base_uri": "https://localhost:8080/",
          "height": 122
        },
        "id": "PZAxKwy9X2_k",
        "outputId": "bb3c5efe-e48a-4dec-f08a-36b14d8dbb60"
      },
      "execution_count": null,
      "outputs": [
        {
          "output_type": "execute_result",
          "data": {
            "text/plain": [
              "'federal law supersedes state law cannabis medical recreational use still prohibited federal law reason give keeping illegal never hold water though weve consolidated argument side legality debate one comprehensive list prohibitionist argue marijuana drug banned buy legally town there way stop people using illegally mean would criminal wider range dangerous substance disposal ever thats almost every country ban alcohol available hard keep track opponent different opinion dont believe prohibition solves problem instead think cause harm good creating unscrupulous black market drug user forced pay high price highquality product'"
            ],
            "application/vnd.google.colaboratory.intrinsic+json": {
              "type": "string"
            }
          },
          "metadata": {},
          "execution_count": 26
        }
      ]
    },
    {
      "cell_type": "code",
      "source": [
        "lm.lemmatize('abilities')"
      ],
      "metadata": {
        "colab": {
          "base_uri": "https://localhost:8080/",
          "height": 35
        },
        "id": "fHn4g2VlNuhw",
        "outputId": "01b1ff65-a18b-48d9-dc2d-2b4ad4b522e2"
      },
      "execution_count": null,
      "outputs": [
        {
          "output_type": "execute_result",
          "data": {
            "text/plain": [
              "'ability'"
            ],
            "application/vnd.google.colaboratory.intrinsic+json": {
              "type": "string"
            }
          },
          "metadata": {},
          "execution_count": 33
        }
      ]
    },
    {
      "cell_type": "code",
      "source": [
        "df_testing['Content'] = corpus"
      ],
      "metadata": {
        "id": "enF1nWi2N8xd"
      },
      "execution_count": null,
      "outputs": []
    },
    {
      "cell_type": "code",
      "source": [
        "df_testing"
      ],
      "metadata": {
        "colab": {
          "base_uri": "https://localhost:8080/",
          "height": 423
        },
        "id": "qDcP3-W8OKHq",
        "outputId": "afb0c7b0-9faf-4ed4-a3f2-b487f6e42a91"
      },
      "execution_count": null,
      "outputs": [
        {
          "output_type": "execute_result",
          "data": {
            "text/plain": [
              "       Author                                            Content\n",
              "0         LLM  federal law supersedes state law cannabis medi...\n",
              "1         LLM  mile feel restless working day decides go park...\n",
              "2         LLM  first danish mean follow american politics muc...\n",
              "3         LLM  paper present novel rulebased approach runtime...\n",
              "4         LLM  social progressive love democracy relatively l...\n",
              "...       ...                                                ...\n",
              "788917    LLM  vast expanse time echo aeon mingle whisper for...\n",
              "788918    LLM  phenomenon brain drain particularly stem field...\n",
              "788919    LLM  influence climate change marine ecosystem clim...\n",
              "788920    LLM  title case limiting car usage navigating towar...\n",
              "788921    LLM  vast expanse globalized society culture intert...\n",
              "\n",
              "[788922 rows x 2 columns]"
            ],
            "text/html": [
              "\n",
              "  <div id=\"df-c4549511-6f63-4095-8d19-7e7e515bf295\" class=\"colab-df-container\">\n",
              "    <div>\n",
              "<style scoped>\n",
              "    .dataframe tbody tr th:only-of-type {\n",
              "        vertical-align: middle;\n",
              "    }\n",
              "\n",
              "    .dataframe tbody tr th {\n",
              "        vertical-align: top;\n",
              "    }\n",
              "\n",
              "    .dataframe thead th {\n",
              "        text-align: right;\n",
              "    }\n",
              "</style>\n",
              "<table border=\"1\" class=\"dataframe\">\n",
              "  <thead>\n",
              "    <tr style=\"text-align: right;\">\n",
              "      <th></th>\n",
              "      <th>Author</th>\n",
              "      <th>Content</th>\n",
              "    </tr>\n",
              "  </thead>\n",
              "  <tbody>\n",
              "    <tr>\n",
              "      <th>0</th>\n",
              "      <td>LLM</td>\n",
              "      <td>federal law supersedes state law cannabis medi...</td>\n",
              "    </tr>\n",
              "    <tr>\n",
              "      <th>1</th>\n",
              "      <td>LLM</td>\n",
              "      <td>mile feel restless working day decides go park...</td>\n",
              "    </tr>\n",
              "    <tr>\n",
              "      <th>2</th>\n",
              "      <td>LLM</td>\n",
              "      <td>first danish mean follow american politics muc...</td>\n",
              "    </tr>\n",
              "    <tr>\n",
              "      <th>3</th>\n",
              "      <td>LLM</td>\n",
              "      <td>paper present novel rulebased approach runtime...</td>\n",
              "    </tr>\n",
              "    <tr>\n",
              "      <th>4</th>\n",
              "      <td>LLM</td>\n",
              "      <td>social progressive love democracy relatively l...</td>\n",
              "    </tr>\n",
              "    <tr>\n",
              "      <th>...</th>\n",
              "      <td>...</td>\n",
              "      <td>...</td>\n",
              "    </tr>\n",
              "    <tr>\n",
              "      <th>788917</th>\n",
              "      <td>LLM</td>\n",
              "      <td>vast expanse time echo aeon mingle whisper for...</td>\n",
              "    </tr>\n",
              "    <tr>\n",
              "      <th>788918</th>\n",
              "      <td>LLM</td>\n",
              "      <td>phenomenon brain drain particularly stem field...</td>\n",
              "    </tr>\n",
              "    <tr>\n",
              "      <th>788919</th>\n",
              "      <td>LLM</td>\n",
              "      <td>influence climate change marine ecosystem clim...</td>\n",
              "    </tr>\n",
              "    <tr>\n",
              "      <th>788920</th>\n",
              "      <td>LLM</td>\n",
              "      <td>title case limiting car usage navigating towar...</td>\n",
              "    </tr>\n",
              "    <tr>\n",
              "      <th>788921</th>\n",
              "      <td>LLM</td>\n",
              "      <td>vast expanse globalized society culture intert...</td>\n",
              "    </tr>\n",
              "  </tbody>\n",
              "</table>\n",
              "<p>788922 rows × 2 columns</p>\n",
              "</div>\n",
              "    <div class=\"colab-df-buttons\">\n",
              "\n",
              "  <div class=\"colab-df-container\">\n",
              "    <button class=\"colab-df-convert\" onclick=\"convertToInteractive('df-c4549511-6f63-4095-8d19-7e7e515bf295')\"\n",
              "            title=\"Convert this dataframe to an interactive table.\"\n",
              "            style=\"display:none;\">\n",
              "\n",
              "  <svg xmlns=\"http://www.w3.org/2000/svg\" height=\"24px\" viewBox=\"0 -960 960 960\">\n",
              "    <path d=\"M120-120v-720h720v720H120Zm60-500h600v-160H180v160Zm220 220h160v-160H400v160Zm0 220h160v-160H400v160ZM180-400h160v-160H180v160Zm440 0h160v-160H620v160ZM180-180h160v-160H180v160Zm440 0h160v-160H620v160Z\"/>\n",
              "  </svg>\n",
              "    </button>\n",
              "\n",
              "  <style>\n",
              "    .colab-df-container {\n",
              "      display:flex;\n",
              "      gap: 12px;\n",
              "    }\n",
              "\n",
              "    .colab-df-convert {\n",
              "      background-color: #E8F0FE;\n",
              "      border: none;\n",
              "      border-radius: 50%;\n",
              "      cursor: pointer;\n",
              "      display: none;\n",
              "      fill: #1967D2;\n",
              "      height: 32px;\n",
              "      padding: 0 0 0 0;\n",
              "      width: 32px;\n",
              "    }\n",
              "\n",
              "    .colab-df-convert:hover {\n",
              "      background-color: #E2EBFA;\n",
              "      box-shadow: 0px 1px 2px rgba(60, 64, 67, 0.3), 0px 1px 3px 1px rgba(60, 64, 67, 0.15);\n",
              "      fill: #174EA6;\n",
              "    }\n",
              "\n",
              "    .colab-df-buttons div {\n",
              "      margin-bottom: 4px;\n",
              "    }\n",
              "\n",
              "    [theme=dark] .colab-df-convert {\n",
              "      background-color: #3B4455;\n",
              "      fill: #D2E3FC;\n",
              "    }\n",
              "\n",
              "    [theme=dark] .colab-df-convert:hover {\n",
              "      background-color: #434B5C;\n",
              "      box-shadow: 0px 1px 3px 1px rgba(0, 0, 0, 0.15);\n",
              "      filter: drop-shadow(0px 1px 2px rgba(0, 0, 0, 0.3));\n",
              "      fill: #FFFFFF;\n",
              "    }\n",
              "  </style>\n",
              "\n",
              "    <script>\n",
              "      const buttonEl =\n",
              "        document.querySelector('#df-c4549511-6f63-4095-8d19-7e7e515bf295 button.colab-df-convert');\n",
              "      buttonEl.style.display =\n",
              "        google.colab.kernel.accessAllowed ? 'block' : 'none';\n",
              "\n",
              "      async function convertToInteractive(key) {\n",
              "        const element = document.querySelector('#df-c4549511-6f63-4095-8d19-7e7e515bf295');\n",
              "        const dataTable =\n",
              "          await google.colab.kernel.invokeFunction('convertToInteractive',\n",
              "                                                    [key], {});\n",
              "        if (!dataTable) return;\n",
              "\n",
              "        const docLinkHtml = 'Like what you see? Visit the ' +\n",
              "          '<a target=\"_blank\" href=https://colab.research.google.com/notebooks/data_table.ipynb>data table notebook</a>'\n",
              "          + ' to learn more about interactive tables.';\n",
              "        element.innerHTML = '';\n",
              "        dataTable['output_type'] = 'display_data';\n",
              "        await google.colab.output.renderOutput(dataTable, element);\n",
              "        const docLink = document.createElement('div');\n",
              "        docLink.innerHTML = docLinkHtml;\n",
              "        element.appendChild(docLink);\n",
              "      }\n",
              "    </script>\n",
              "  </div>\n",
              "\n",
              "\n",
              "<div id=\"df-cfcf21b1-ae14-4e0b-b796-39cf8b605474\">\n",
              "  <button class=\"colab-df-quickchart\" onclick=\"quickchart('df-cfcf21b1-ae14-4e0b-b796-39cf8b605474')\"\n",
              "            title=\"Suggest charts\"\n",
              "            style=\"display:none;\">\n",
              "\n",
              "<svg xmlns=\"http://www.w3.org/2000/svg\" height=\"24px\"viewBox=\"0 0 24 24\"\n",
              "     width=\"24px\">\n",
              "    <g>\n",
              "        <path d=\"M19 3H5c-1.1 0-2 .9-2 2v14c0 1.1.9 2 2 2h14c1.1 0 2-.9 2-2V5c0-1.1-.9-2-2-2zM9 17H7v-7h2v7zm4 0h-2V7h2v10zm4 0h-2v-4h2v4z\"/>\n",
              "    </g>\n",
              "</svg>\n",
              "  </button>\n",
              "\n",
              "<style>\n",
              "  .colab-df-quickchart {\n",
              "      --bg-color: #E8F0FE;\n",
              "      --fill-color: #1967D2;\n",
              "      --hover-bg-color: #E2EBFA;\n",
              "      --hover-fill-color: #174EA6;\n",
              "      --disabled-fill-color: #AAA;\n",
              "      --disabled-bg-color: #DDD;\n",
              "  }\n",
              "\n",
              "  [theme=dark] .colab-df-quickchart {\n",
              "      --bg-color: #3B4455;\n",
              "      --fill-color: #D2E3FC;\n",
              "      --hover-bg-color: #434B5C;\n",
              "      --hover-fill-color: #FFFFFF;\n",
              "      --disabled-bg-color: #3B4455;\n",
              "      --disabled-fill-color: #666;\n",
              "  }\n",
              "\n",
              "  .colab-df-quickchart {\n",
              "    background-color: var(--bg-color);\n",
              "    border: none;\n",
              "    border-radius: 50%;\n",
              "    cursor: pointer;\n",
              "    display: none;\n",
              "    fill: var(--fill-color);\n",
              "    height: 32px;\n",
              "    padding: 0;\n",
              "    width: 32px;\n",
              "  }\n",
              "\n",
              "  .colab-df-quickchart:hover {\n",
              "    background-color: var(--hover-bg-color);\n",
              "    box-shadow: 0 1px 2px rgba(60, 64, 67, 0.3), 0 1px 3px 1px rgba(60, 64, 67, 0.15);\n",
              "    fill: var(--button-hover-fill-color);\n",
              "  }\n",
              "\n",
              "  .colab-df-quickchart-complete:disabled,\n",
              "  .colab-df-quickchart-complete:disabled:hover {\n",
              "    background-color: var(--disabled-bg-color);\n",
              "    fill: var(--disabled-fill-color);\n",
              "    box-shadow: none;\n",
              "  }\n",
              "\n",
              "  .colab-df-spinner {\n",
              "    border: 2px solid var(--fill-color);\n",
              "    border-color: transparent;\n",
              "    border-bottom-color: var(--fill-color);\n",
              "    animation:\n",
              "      spin 1s steps(1) infinite;\n",
              "  }\n",
              "\n",
              "  @keyframes spin {\n",
              "    0% {\n",
              "      border-color: transparent;\n",
              "      border-bottom-color: var(--fill-color);\n",
              "      border-left-color: var(--fill-color);\n",
              "    }\n",
              "    20% {\n",
              "      border-color: transparent;\n",
              "      border-left-color: var(--fill-color);\n",
              "      border-top-color: var(--fill-color);\n",
              "    }\n",
              "    30% {\n",
              "      border-color: transparent;\n",
              "      border-left-color: var(--fill-color);\n",
              "      border-top-color: var(--fill-color);\n",
              "      border-right-color: var(--fill-color);\n",
              "    }\n",
              "    40% {\n",
              "      border-color: transparent;\n",
              "      border-right-color: var(--fill-color);\n",
              "      border-top-color: var(--fill-color);\n",
              "    }\n",
              "    60% {\n",
              "      border-color: transparent;\n",
              "      border-right-color: var(--fill-color);\n",
              "    }\n",
              "    80% {\n",
              "      border-color: transparent;\n",
              "      border-right-color: var(--fill-color);\n",
              "      border-bottom-color: var(--fill-color);\n",
              "    }\n",
              "    90% {\n",
              "      border-color: transparent;\n",
              "      border-bottom-color: var(--fill-color);\n",
              "    }\n",
              "  }\n",
              "</style>\n",
              "\n",
              "  <script>\n",
              "    async function quickchart(key) {\n",
              "      const quickchartButtonEl =\n",
              "        document.querySelector('#' + key + ' button');\n",
              "      quickchartButtonEl.disabled = true;  // To prevent multiple clicks.\n",
              "      quickchartButtonEl.classList.add('colab-df-spinner');\n",
              "      try {\n",
              "        const charts = await google.colab.kernel.invokeFunction(\n",
              "            'suggestCharts', [key], {});\n",
              "      } catch (error) {\n",
              "        console.error('Error during call to suggestCharts:', error);\n",
              "      }\n",
              "      quickchartButtonEl.classList.remove('colab-df-spinner');\n",
              "      quickchartButtonEl.classList.add('colab-df-quickchart-complete');\n",
              "    }\n",
              "    (() => {\n",
              "      let quickchartButtonEl =\n",
              "        document.querySelector('#df-cfcf21b1-ae14-4e0b-b796-39cf8b605474 button');\n",
              "      quickchartButtonEl.style.display =\n",
              "        google.colab.kernel.accessAllowed ? 'block' : 'none';\n",
              "    })();\n",
              "  </script>\n",
              "</div>\n",
              "    </div>\n",
              "  </div>\n"
            ],
            "application/vnd.google.colaboratory.intrinsic+json": {
              "type": "dataframe",
              "variable_name": "df_testing"
            }
          },
          "metadata": {},
          "execution_count": 35
        }
      ]
    },
    {
      "cell_type": "code",
      "source": [
        "df_testing['Content'][0]"
      ],
      "metadata": {
        "colab": {
          "base_uri": "https://localhost:8080/",
          "height": 122
        },
        "id": "dKzhd_C0Xu5z",
        "outputId": "ecca8b3f-2770-4bd2-d6e2-55200a33d42f"
      },
      "execution_count": null,
      "outputs": [
        {
          "output_type": "execute_result",
          "data": {
            "text/plain": [
              "'federal law supersedes state law cannabis medical recreational use still prohibited federal law reason give keeping illegal never hold water though weve consolidated argument side legality debate one comprehensive list prohibitionist argue marijuana drug banned buy legally town there way stop people using illegally mean would criminal wider range dangerous substance disposal ever thats almost every country ban alcohol available hard keep track opponent different opinion dont believe prohibition solves problem instead think cause harm good creating unscrupulous black market drug user forced pay high price highquality product'"
            ],
            "application/vnd.google.colaboratory.intrinsic+json": {
              "type": "string"
            }
          },
          "metadata": {},
          "execution_count": 37
        }
      ]
    },
    {
      "cell_type": "code",
      "source": [
        "# df_testing.to_csv('df_testing.csv', index=False)"
      ],
      "metadata": {
        "id": "O3dZBuqdOVdn"
      },
      "execution_count": null,
      "outputs": []
    },
    {
      "cell_type": "markdown",
      "source": [
        "## Saving progress in a checkpoint"
      ],
      "metadata": {
        "id": "HAD7YxCBqux_"
      }
    },
    {
      "cell_type": "code",
      "source": [
        "from google.colab import drive\n",
        "drive.mount('/content/drive')"
      ],
      "metadata": {
        "colab": {
          "base_uri": "https://localhost:8080/"
        },
        "id": "NVPnV1YC-Zwo",
        "outputId": "72f34903-3676-4abb-bf97-89de4c2dd97f"
      },
      "execution_count": 3,
      "outputs": [
        {
          "output_type": "stream",
          "name": "stdout",
          "text": [
            "Mounted at /content/drive\n"
          ]
        }
      ]
    },
    {
      "cell_type": "code",
      "source": [
        "import pandas as pd\n",
        "import re\n",
        "import pandas as pd\n",
        "import numpy as np\n",
        "from sklearn.preprocessing import LabelEncoder\n",
        "from sklearn.model_selection import train_test_split\n",
        "from keras.preprocessing.text import Tokenizer\n",
        "from keras.preprocessing.sequence import pad_sequences\n",
        "import keras\n",
        "import math\n",
        "import nltk\n",
        "from nltk.corpus import stopwords\n",
        "from nltk.tokenize import WhitespaceTokenizer\n",
        "from nltk.stem import WordNetLemmatizer\n",
        "import tensorflow as tf\n",
        "from sklearn.metrics import classification_report,confusion_matrix\n",
        "from keras.models import Sequential\n",
        "from keras.layers import Dense, Embedding, LSTM, SpatialDropout1D\n",
        "from keras.layers import Bidirectional\n",
        "import string"
      ],
      "metadata": {
        "id": "PbE22ovWqs8x"
      },
      "execution_count": null,
      "outputs": []
    },
    {
      "cell_type": "code",
      "source": [
        "df_testing = pd.read_csv(\"/content/drive/MyDrive/AI_Detector_Project/df_testing.csv\")"
      ],
      "metadata": {
        "id": "IHIxnKIAV7ey"
      },
      "execution_count": 4,
      "outputs": []
    },
    {
      "cell_type": "code",
      "source": [
        "max_word=5000 #the maximum number of words to keep, based on word frequency.\n",
        "max_sequence_length = 1000\n",
        "tokenizer = Tokenizer(num_words=max_word, split=' ', oov_token = '<OOV>')\n",
        "tokenizer.fit_on_texts(df_testing['Content'].values)\n",
        "X = tokenizer.texts_to_sequences(df_testing['Content'].values)\n",
        "X = pad_sequences(X, maxlen=max_sequence_length)"
      ],
      "metadata": {
        "id": "lrGA8xP_TJ0h"
      },
      "execution_count": 5,
      "outputs": []
    },
    {
      "cell_type": "code",
      "source": [
        "y = df_testing['Author']"
      ],
      "metadata": {
        "id": "S7NOdxShSEHA"
      },
      "execution_count": 6,
      "outputs": []
    },
    {
      "cell_type": "code",
      "source": [
        "from sklearn.model_selection import train_test_split as tts\n",
        "X_train, X_test, y_train, y_test = tts(X, y, test_size=0.1, random_state=42)"
      ],
      "metadata": {
        "id": "qM8QHcGEQUZG"
      },
      "execution_count": 7,
      "outputs": []
    },
    {
      "cell_type": "code",
      "source": [
        "from sklearn.linear_model import LogisticRegression as LR\n",
        "log_reg = LR(max_iter = 1000) #liblinear solver? # do pycharm ## what does time code do?\n",
        "log_reg.fit(X_train, y_train), # do no information model by value counts # methods for text/document embedding - how do you take text and turn it into a matrix - tf-idf\n",
        "print(log_reg.score(X_train, y_train))\n",
        "print(log_reg.score(X_test, y_test))"
      ],
      "metadata": {
        "colab": {
          "base_uri": "https://localhost:8080/"
        },
        "id": "nkpmPbWQHQKo",
        "outputId": "477de6d1-9390-4b6a-fc20-c9f6c5216590"
      },
      "execution_count": 8,
      "outputs": [
        {
          "output_type": "stream",
          "name": "stderr",
          "text": [
            "/usr/local/lib/python3.10/dist-packages/sklearn/linear_model/_logistic.py:458: ConvergenceWarning: lbfgs failed to converge (status=1):\n",
            "STOP: TOTAL NO. of ITERATIONS REACHED LIMIT.\n",
            "\n",
            "Increase the number of iterations (max_iter) or scale the data as shown in:\n",
            "    https://scikit-learn.org/stable/modules/preprocessing.html\n",
            "Please also refer to the documentation for alternative solver options:\n",
            "    https://scikit-learn.org/stable/modules/linear_model.html#logistic-regression\n",
            "  n_iter_i = _check_optimize_result(\n"
          ]
        },
        {
          "output_type": "stream",
          "name": "stdout",
          "text": [
            "0.9779513028149617\n",
            "0.9768234492160872\n"
          ]
        }
      ]
    },
    {
      "cell_type": "code",
      "source": [
        "from sklearn.ensemble import GradientBoostingClassifier\n",
        "xgbtree = GradientBoostingClassifier(learning_rate=0.1,\n",
        "                                    max_depth=4, random_state=42)\n",
        "xgbtree.fit(X_train, y_train)\n",
        "# gbtree_score_test=gbtree.score(X_test,y_test)\n",
        "xgbtree_score_train=xgbtree.score(X_train,y_train)\n",
        "xgbtree_score_test=xgbtree.score(X_test,y_test)\n",
        "\n",
        "print(\"score of gntree in training data is \" + str(xgbtree_score_train))\n",
        "print(\"score of gntree in testing data is \" + str(xgbtree_score_test))"
      ],
      "metadata": {
        "colab": {
          "base_uri": "https://localhost:8080/"
        },
        "id": "y6yvgUK68WMd",
        "outputId": "f473af8a-ffd9-4128-8ab1-49a4653e128f"
      },
      "execution_count": null,
      "outputs": [
        {
          "output_type": "stream",
          "name": "stdout",
          "text": [
            "score of gntree in training data is 0.9839971354597036\n",
            "score of gntree in testing data is 0.9824626634442586\n"
          ]
        }
      ]
    },
    {
      "cell_type": "code",
      "source": [
        "def XG_test_sample(content, max_sequence_length = max_sequence_length):\n",
        "  # formatted_text = f'\"\"\"\\n{text}\\n\"\"\"'\n",
        "  # formatted_text = content\n",
        "  import os\n",
        "  formatted_text = ' '.join(content.split())\n",
        "  xi = tokenizer.texts_to_sequences([formatted_text])\n",
        "  xi = pad_sequences(xi, maxlen=max_sequence_length)\n",
        "  predicted_class = xgbtree.predict(xi)\n",
        "  probabilities = xgbtree.predict_proba(xi)\n",
        "  final_answer = (f'The model predicts this text is written by a {predicted_class[0]}' + os.linesep + f'and the probabilities it is a human vs a LLM are {probabilities[0][0]} and {probabilities[0][1]}, respectively.')\n",
        "  return final_answer"
      ],
      "metadata": {
        "id": "M7yjSKQL8rWa"
      },
      "execution_count": null,
      "outputs": []
    },
    {
      "cell_type": "code",
      "source": [
        "y_actu = pd.Series(y_test, name='Actual')\n",
        "y_pred = pd.Series(log_reg.predict(X_test), name='Predicted')\n",
        "df_confusion = pd.crosstab(y_actu, y_pred)"
      ],
      "metadata": {
        "id": "O7De8248S9Fm"
      },
      "execution_count": null,
      "outputs": []
    },
    {
      "cell_type": "code",
      "source": [
        "df_confusion"
      ],
      "metadata": {
        "colab": {
          "base_uri": "https://localhost:8080/",
          "height": 112
        },
        "id": "RLGaS6y3V0ga",
        "outputId": "047928e6-3e00-4aec-a6c9-8f034e76eb95"
      },
      "execution_count": null,
      "outputs": [
        {
          "output_type": "execute_result",
          "data": {
            "text/plain": [
              "Predicted  Human   LLM\n",
              "Actual                \n",
              "LLM           20  1522"
            ],
            "text/html": [
              "\n",
              "  <div id=\"df-4ec82683-a503-47ec-8632-f49f8f443051\" class=\"colab-df-container\">\n",
              "    <div>\n",
              "<style scoped>\n",
              "    .dataframe tbody tr th:only-of-type {\n",
              "        vertical-align: middle;\n",
              "    }\n",
              "\n",
              "    .dataframe tbody tr th {\n",
              "        vertical-align: top;\n",
              "    }\n",
              "\n",
              "    .dataframe thead th {\n",
              "        text-align: right;\n",
              "    }\n",
              "</style>\n",
              "<table border=\"1\" class=\"dataframe\">\n",
              "  <thead>\n",
              "    <tr style=\"text-align: right;\">\n",
              "      <th>Predicted</th>\n",
              "      <th>Human</th>\n",
              "      <th>LLM</th>\n",
              "    </tr>\n",
              "    <tr>\n",
              "      <th>Actual</th>\n",
              "      <th></th>\n",
              "      <th></th>\n",
              "    </tr>\n",
              "  </thead>\n",
              "  <tbody>\n",
              "    <tr>\n",
              "      <th>LLM</th>\n",
              "      <td>20</td>\n",
              "      <td>1522</td>\n",
              "    </tr>\n",
              "  </tbody>\n",
              "</table>\n",
              "</div>\n",
              "    <div class=\"colab-df-buttons\">\n",
              "\n",
              "  <div class=\"colab-df-container\">\n",
              "    <button class=\"colab-df-convert\" onclick=\"convertToInteractive('df-4ec82683-a503-47ec-8632-f49f8f443051')\"\n",
              "            title=\"Convert this dataframe to an interactive table.\"\n",
              "            style=\"display:none;\">\n",
              "\n",
              "  <svg xmlns=\"http://www.w3.org/2000/svg\" height=\"24px\" viewBox=\"0 -960 960 960\">\n",
              "    <path d=\"M120-120v-720h720v720H120Zm60-500h600v-160H180v160Zm220 220h160v-160H400v160Zm0 220h160v-160H400v160ZM180-400h160v-160H180v160Zm440 0h160v-160H620v160ZM180-180h160v-160H180v160Zm440 0h160v-160H620v160Z\"/>\n",
              "  </svg>\n",
              "    </button>\n",
              "\n",
              "  <style>\n",
              "    .colab-df-container {\n",
              "      display:flex;\n",
              "      gap: 12px;\n",
              "    }\n",
              "\n",
              "    .colab-df-convert {\n",
              "      background-color: #E8F0FE;\n",
              "      border: none;\n",
              "      border-radius: 50%;\n",
              "      cursor: pointer;\n",
              "      display: none;\n",
              "      fill: #1967D2;\n",
              "      height: 32px;\n",
              "      padding: 0 0 0 0;\n",
              "      width: 32px;\n",
              "    }\n",
              "\n",
              "    .colab-df-convert:hover {\n",
              "      background-color: #E2EBFA;\n",
              "      box-shadow: 0px 1px 2px rgba(60, 64, 67, 0.3), 0px 1px 3px 1px rgba(60, 64, 67, 0.15);\n",
              "      fill: #174EA6;\n",
              "    }\n",
              "\n",
              "    .colab-df-buttons div {\n",
              "      margin-bottom: 4px;\n",
              "    }\n",
              "\n",
              "    [theme=dark] .colab-df-convert {\n",
              "      background-color: #3B4455;\n",
              "      fill: #D2E3FC;\n",
              "    }\n",
              "\n",
              "    [theme=dark] .colab-df-convert:hover {\n",
              "      background-color: #434B5C;\n",
              "      box-shadow: 0px 1px 3px 1px rgba(0, 0, 0, 0.15);\n",
              "      filter: drop-shadow(0px 1px 2px rgba(0, 0, 0, 0.3));\n",
              "      fill: #FFFFFF;\n",
              "    }\n",
              "  </style>\n",
              "\n",
              "    <script>\n",
              "      const buttonEl =\n",
              "        document.querySelector('#df-4ec82683-a503-47ec-8632-f49f8f443051 button.colab-df-convert');\n",
              "      buttonEl.style.display =\n",
              "        google.colab.kernel.accessAllowed ? 'block' : 'none';\n",
              "\n",
              "      async function convertToInteractive(key) {\n",
              "        const element = document.querySelector('#df-4ec82683-a503-47ec-8632-f49f8f443051');\n",
              "        const dataTable =\n",
              "          await google.colab.kernel.invokeFunction('convertToInteractive',\n",
              "                                                    [key], {});\n",
              "        if (!dataTable) return;\n",
              "\n",
              "        const docLinkHtml = 'Like what you see? Visit the ' +\n",
              "          '<a target=\"_blank\" href=https://colab.research.google.com/notebooks/data_table.ipynb>data table notebook</a>'\n",
              "          + ' to learn more about interactive tables.';\n",
              "        element.innerHTML = '';\n",
              "        dataTable['output_type'] = 'display_data';\n",
              "        await google.colab.output.renderOutput(dataTable, element);\n",
              "        const docLink = document.createElement('div');\n",
              "        docLink.innerHTML = docLinkHtml;\n",
              "        element.appendChild(docLink);\n",
              "      }\n",
              "    </script>\n",
              "  </div>\n",
              "\n",
              "    </div>\n",
              "  </div>\n"
            ],
            "application/vnd.google.colaboratory.intrinsic+json": {
              "type": "dataframe",
              "variable_name": "df_confusion",
              "summary": "{\n  \"name\": \"df_confusion\",\n  \"rows\": 1,\n  \"fields\": [\n    {\n      \"column\": \"Actual\",\n      \"properties\": {\n        \"dtype\": \"string\",\n        \"num_unique_values\": 1,\n        \"samples\": [\n          \"LLM\"\n        ],\n        \"semantic_type\": \"\",\n        \"description\": \"\"\n      }\n    },\n    {\n      \"column\": \"Human\",\n      \"properties\": {\n        \"dtype\": \"number\",\n        \"std\": null,\n        \"min\": 20,\n        \"max\": 20,\n        \"num_unique_values\": 1,\n        \"samples\": [\n          20\n        ],\n        \"semantic_type\": \"\",\n        \"description\": \"\"\n      }\n    },\n    {\n      \"column\": \"LLM\",\n      \"properties\": {\n        \"dtype\": \"number\",\n        \"std\": null,\n        \"min\": 1522,\n        \"max\": 1522,\n        \"num_unique_values\": 1,\n        \"samples\": [\n          1522\n        ],\n        \"semantic_type\": \"\",\n        \"description\": \"\"\n      }\n    }\n  ]\n}"
            }
          },
          "metadata": {},
          "execution_count": 78
        }
      ]
    },
    {
      "cell_type": "code",
      "source": [
        "def test_sample(content, max_sequence_length = max_sequence_length):\n",
        "  # formatted_text = f'\"\"\"\\n{text}\\n\"\"\"'\n",
        "  # formatted_text = content\n",
        "  import os\n",
        "  formatted_text = ' '.join(content.split())\n",
        "  xi = tokenizer.texts_to_sequences([formatted_text])\n",
        "  xi = pad_sequences(xi, maxlen=max_sequence_length)\n",
        "  predicted_class = log_reg.predict(xi)\n",
        "  probabilities = log_reg.predict_proba(xi)\n",
        "  final_answer = (f'The model predicts this text is written by a {predicted_class[0]}' + os.linesep + f'and the probabilities it is a human vs a LLM are {probabilities[0][0]} and {probabilities[0][1]}, respectively.')\n",
        "  return final_answer"
      ],
      "metadata": {
        "id": "wfJ97-qtYfK6"
      },
      "execution_count": 11,
      "outputs": []
    },
    {
      "cell_type": "code",
      "source": [
        "text = \"\"\"\n",
        "Golf, often revered as a sport of precision and patience, is deeply rooted in statistical analysis. From tracking player performance to understanding course difficulty, statistics play an integral role in shaping strategies and predicting outcomes. This essay delves into the various facets of golf statistics, highlighting their significance and applications in enhancing the game.\n",
        "\n",
        "Statistics in golf serve multiple purposes. They help players and coaches make informed decisions, enable analysts to evaluate performance, and allow fans to engage more deeply with the sport. By examining key metrics, one can gain insights into a player's strengths, weaknesses, and overall game plan.\n",
        "\n",
        "The scoring average is one of the most fundamental statistics in golf, representing the average number of strokes a player takes per round. It provides a general measure of a player's performance over time. A lower scoring average typically indicates a more consistent and successful player. Greens in regulation (GIR) is a critical statistic that measures how often a player reaches the green in the prescribed number of strokes (two strokes under par). For example, reaching a par-4 hole in two shots. High GIR percentages are indicative of strong iron play and accuracy, essential for scoring opportunities.\n",
        "\n",
        "Driving statistics include both distance and accuracy. Driving distance measures the average length of a player's drives, reflecting power. Driving accuracy, on the other hand, indicates the percentage of drives that land in the fairway, highlighting precision. Balancing these two aspects is crucial for effective play. Putting is often considered the most crucial aspect of golf, and several metrics help analyze it: putts per round, putts per green in regulation, and putts per round. The total number of putts a player takes in a round is fewer putts per round generally mean better performance. Putts per green in regulation (GIR) shows the average number of putts taken after reaching the green in regulation, offering insight into a player's ability to convert GIR into lower scores. Sand save percentage measures the percentage of times a player successfully gets up and down from a greenside bunker, resulting in par or better. It reflects a player's skill and composure in challenging situations.\n",
        "\n",
        "With advancements in technology, more sophisticated metrics have emerged, providing deeper insights. Strokes gained is a comprehensive metric that compares a player's performance to the field average. It breaks down various aspects such as strokes gained off the tee, approaching the green, around the green, and putting. This analysis helps identify specific areas where a player excels or needs improvement. The PGA Tour's ShotLink system uses lasers and GPS technology to track every shot by every player. This data provides a detailed breakdown of shot distances, locations, and outcomes, enabling precise performance analysis and strategy development.\n",
        "\n",
        "Golfers and their coaches use statistical analysis to tailor training programs and on-course strategies. For example, by identifying weaknesses in putting or bunker play, a player can focus practice sessions on those areas. During tournaments, players might adjust their approach based on statistical insights about the course and competition. Additionally, statisticians and analysts play a vital role in course design and setup. Understanding how different players navigate a course allows for adjustments that can make tournaments more challenging and engaging.\n",
        "\n",
        "As technology continues to evolve, the scope of golf statistics is expected to expand further. Wearable devices, augmented reality, and artificial intelligence are poised to revolutionize data collection and analysis, providing even more granular insights. This progress will not only enhance player performance but also enrich the viewing experience for fans, offering unprecedented levels of engagement and understanding.\n",
        "\n",
        "Statistics are the backbone of modern golf, offering a window into the intricacies of the game. From basic metrics like scoring averages to advanced analytics such as strokes gained, these numbers tell the story of a player's journey and strategy. As the sport continues to evolve, so too will the methods and tools used to analyze it, ensuring that golf remains a game of not just skill and precision, but also of insightful and strategic thinking.\n",
        "\n",
        "\"\"\""
      ],
      "metadata": {
        "id": "eT7kOhnQhkzu"
      },
      "execution_count": 12,
      "outputs": []
    },
    {
      "cell_type": "code",
      "source": [
        "test_sample(text)"
      ],
      "metadata": {
        "id": "4WqJRq9-5r86",
        "colab": {
          "base_uri": "https://localhost:8080/",
          "height": 53
        },
        "outputId": "500df52b-6daf-4c41-cecc-7d8b7696caeb"
      },
      "execution_count": 13,
      "outputs": [
        {
          "output_type": "execute_result",
          "data": {
            "text/plain": [
              "'The model predicts this text is written by a LLM\\nand the probabilities it is a human vs a LLM are 0.2375866144367753 and 0.7624133855632247, respectively.'"
            ],
            "application/vnd.google.colaboratory.intrinsic+json": {
              "type": "string"
            }
          },
          "metadata": {},
          "execution_count": 13
        }
      ]
    },
    {
      "cell_type": "code",
      "source": [
        "XG_test_sample(text)"
      ],
      "metadata": {
        "colab": {
          "base_uri": "https://localhost:8080/",
          "height": 53
        },
        "id": "sHBAIfky9Qsj",
        "outputId": "46d39eef-e333-4557-a2a6-8bbe8b208b9a"
      },
      "execution_count": null,
      "outputs": [
        {
          "output_type": "execute_result",
          "data": {
            "text/plain": [
              "'The model predicts this text is written by a LLM\\nand the probabilities it is a human vs a LLM are 0.2741932420022565 and 0.7258067579977435, respectively.'"
            ],
            "application/vnd.google.colaboratory.intrinsic+json": {
              "type": "string"
            }
          },
          "metadata": {},
          "execution_count": 258
        }
      ]
    },
    {
      "cell_type": "code",
      "source": [
        "text = \"\"\"\n",
        "Golf, often described as a game of inches, is deeply rooted in precision, skill, and strategy. The sport, which captivates millions around the world, is as much about numbers and statistics as it is about the beauty of the swing or the serenity of the course. Understanding golf statistics provides valuable insights into a player's performance, the intricacies of the game, and the factors that separate the elite from the rest. These statistics are not just numbers; they tell the story of the game, offering a deeper appreciation for the nuances of golf.\n",
        "\n",
        "One of the most fundamental statistics in golf is the \"score,\" which is the total number of strokes a player takes to complete a round. While this seems straightforward, it encompasses various elements of the game, including driving, approach shots, putting, and course management. A player's score relative to par is often used to gauge performance, with par being the expected number of strokes an expert golfer would take to complete the course. Scores below par indicate exceptional play, while those above par suggest areas for improvement.\n",
        "\n",
        "Driving statistics are crucial for understanding a player's performance off the tee. Metrics such as \"Driving Distance\" and \"Driving Accuracy\" provide insights into a player's power and precision. Driving Distance measures how far a player hits the ball from the tee, with the current average on the PGA Tour hovering around 295 yards. Longer drives can offer significant advantages, such as shorter approach shots to the green, but only if they are accurate. Driving Accuracy, on the other hand, measures the percentage of drives that land in the fairway. A balance between distance and accuracy is essential for setting up favorable positions for subsequent shots.\n",
        "\n",
        "Approach shots, or the shots taken to get the ball onto the green, are another critical aspect of golf. \"Greens in Regulation\" (GIR) is a key statistic that measures the percentage of holes in which a player reaches the green in the expected number of strokes. For example, reaching a par-4 green in two shots or a par-5 green in three shots would count towards this metric. High GIR percentages indicate strong approach play and often correlate with lower scores, as they suggest the player is consistently giving themselves opportunities for birdies and pars.\n",
        "\n",
        "Putting, often considered the most critical aspect of scoring, is measured through various statistics. \"Putts per Round\" provides a basic measure of putting performance, but more detailed metrics like \"Strokes Gained: Putting\" offer deeper insights. Strokes Gained: Putting quantifies a player's performance on the greens relative to the field, accounting for the difficulty of putts. This statistic helps identify the best putters, who can save strokes by sinking challenging putts and minimizing three-putts.\n",
        "\n",
        "Another essential set of statistics involves short game performance, which includes shots taken around the green. \"Scrambling\" measures a player's ability to save par after missing the green in regulation. High scrambling percentages indicate proficiency in chipping, pitching, and bunker play, reflecting a player's skill in recovering from challenging situations.\n",
        "\n",
        "Beyond individual performance metrics, course statistics also play a significant role in golf. Course difficulty, weather conditions, and even grass types can influence a player's performance. Understanding these factors helps in analyzing how well a player adapts to different challenges and conditions, offering a more comprehensive view of their abilities.\n",
        "\n",
        "Advanced analytics have revolutionized the way golf statistics are used and understood. Tools like ShotLink, used by the PGA Tour, collect vast amounts of data on every shot taken in a tournament. This data is used to generate detailed performance metrics and provide insights into areas such as shot dispersion, proximity to the hole, and even psychological aspects like decision-making under pressure.\n",
        "\n",
        "In conclusion, golf statistics are more than just numbers; they are the language of the game, telling the story of a player's strengths, weaknesses, and overall performance. They provide a framework for understanding the complexities of golf, from the power and precision of drives to the finesse of putting and the strategic mastery of course management. As the game continues to evolve, so too will the ways in which we analyze and appreciate the beautiful game of golf through the lens of statistics.\n",
        "\n",
        "\"\"\""
      ],
      "metadata": {
        "id": "9Ac4F0LngNWU"
      },
      "execution_count": 14,
      "outputs": []
    },
    {
      "cell_type": "code",
      "source": [
        "test_sample(text)"
      ],
      "metadata": {
        "id": "J1OePRAl5tlV",
        "colab": {
          "base_uri": "https://localhost:8080/",
          "height": 53
        },
        "outputId": "3efc278b-4b2c-4538-e9c6-65eece48c964"
      },
      "execution_count": 15,
      "outputs": [
        {
          "output_type": "execute_result",
          "data": {
            "text/plain": [
              "'The model predicts this text is written by a Human\\nand the probabilities it is a human vs a LLM are 0.6593596333493104 and 0.34064036665068964, respectively.'"
            ],
            "application/vnd.google.colaboratory.intrinsic+json": {
              "type": "string"
            }
          },
          "metadata": {},
          "execution_count": 15
        }
      ]
    },
    {
      "cell_type": "code",
      "source": [
        "XG_test_sample(text)"
      ],
      "metadata": {
        "colab": {
          "base_uri": "https://localhost:8080/",
          "height": 53
        },
        "id": "xHDXVqJO9Sxk",
        "outputId": "e2b283dc-28b3-4052-d23f-a337a408e00a"
      },
      "execution_count": null,
      "outputs": [
        {
          "output_type": "execute_result",
          "data": {
            "text/plain": [
              "'The model predicts this text is written by a Human\\nand the probabilities it is a human vs a LLM are 0.8692992623004097 and 0.1307007376995903, respectively.'"
            ],
            "application/vnd.google.colaboratory.intrinsic+json": {
              "type": "string"
            }
          },
          "metadata": {},
          "execution_count": 261
        }
      ]
    },
    {
      "cell_type": "code",
      "source": [
        "text = \"\"\"\n",
        "\"I think the research is limited by my imagination,\" said Roland Minton, a mathematician at Roanoke College in Salem, Va. \"Asking the right questions is the real trick right now.\"\n",
        "\n",
        "Minton was a competitive golfer in high school and college, and gained access to the ShotLink data while working on a book about the mathematics of golf.\n",
        "\n",
        "Golf revolves around a single, easy to understand statistic: total shots. Other details have been collected for years, such as total putts, driving distance and accuracy, as well slightly more advanced statistics such as how often golfers reach greens with a chance to putt for birdie. But who is the top performer from 100 yards? How many strokes does the average golfer on tour save by landing an approach shot 10 feet from the hole instead of 25? The data can answer these questions, and offers a new way to compare other golfers to Tiger Woods.\n",
        "\n",
        "The tour began designing and implementing ShotLink in 1999. Roughly 10,000 volunteers per year help collect and input the data to an analysis-friendly structure, including details about the lie of the ball in the grass or sand and describing any challenges of playing the ball from that location.\n",
        "\n",
        "It's as if Major League Baseball had previously only recorded a player's number of runs scored and then suddenly began recording the result of each at bat: the number of singles, doubles, triples, home runs and outs. It instantly magnifies the ability to analyze a player's effectiveness.\n",
        "\n",
        "Several years ago another researcher, economist Stephen Shmanske from California State University East Bay in Hayward, made an attempt to measure the correlation of golfers' earnings to their skills as part of his book, \"Golfonomics\". The only data available to him were the traditional statistics like year-to-date putting average, driving distance, and driving accuracy.\n",
        "\n",
        "Shmanske developed several interesting findings, including that for players on tour each hour spent practicing putting improves future earnings by $600.\n",
        "\n",
        "After writing the book Shmanske said that he used a painstaking process to \"mathematically back out the most recent week's performance.\" He took the updated year-to-date driving distance or putting averages and calculated how well each golfer had performed in that tournament.\n",
        "\n",
        "\"I didn't have hole-by-hole or shot-by-shot statistics, but I had week-by-week statistics, which was 52 times more than anybody else had,\" Shmanske said.\n",
        "\n",
        "The ShotLink data makes such complicated processes unnecessary.\n",
        "\n",
        "\"For every shot that the players take, I can know what the average shot for the tour is from whatever position they're in and compare their shot to the average shot and give it a number in terms of strokes better or worse than average,\" said Minton.\n",
        "\n",
        "For example, using data from all tour events from 2004 to 2008 -- excluding the Masters and the three other major tournaments, which the tour does not run -- Minton found that when the ball was on the green, 22 feet from the hole, tour players took an average number of 1.9 putts to finish the hole. If a player takes 2 putts to finish, his performance was 0.1 strokes worse than average. Adding those differences for every shot over the course of a round and the entire season allowed him to compute some interesting statistics.\n",
        "\n",
        "\"You can be real precise about strengths and weaknesses,\" said Minton. \"I can say, his strength is in long irons and he saves himself half a stroke per round with those, but he gives back 0.2 strokes with worse than average putting.\"\n",
        "\n",
        "Using this analysis on each shot, Minton was able to show how much better Woods has been than other golfers in recent years.\n",
        "\n",
        "Minton found that Woods was slightly better than average in driving and well above average on par 3 tee shots. As a putter, Woods finished with high rankings every year from 2004 to 2008, not lower than 17th overall and in the top 10 four of the five years.\n",
        "\n",
        "But Woods really excelled in his approach shots that were between 100 and 200 yards from the hole. Minton ranked performance every 25 yards. Woods was considerably above average in every division, and for three of the divisions (shots between 100 - 125 yards, 150 - 175 yards, and 175 - 200 yards) he ranked number 1 on tour three out of five years.\n",
        "\n",
        "\"There just aren't very many aspects of the game that he doesn't dominate,\" said Minton.\n",
        "\n",
        "Minton also developed an overall rating combining performance in every category of shot. For 2008, Woods was rated 2.65 shots better than average per round. He rated almost 1.5 strokes better than any other golfer. In each of the five years Minton analyzed, Woods rated at two or more shots better than average per round. No other player on tour reached a rating above 2.0 in any year.\n",
        "\n",
        "\"[It's] just outrageous, as good as those players are,\" said Minton.\n",
        "\n",
        "This may be just the beginning of a revolution in golf statistics. Others have used the data to make their own ratings, such as the group from MIT recently mentioned in the Wall Street Journal. With new data comes an opportunity for analysis and new insights. ShotLink data could have a real impact on how golfers practice, play, and perform if the results in any way resemble the advanced statistical analysis of baseball that exploded in recent decades.\n",
        "\n",
        "\n",
        "\"\"\""
      ],
      "metadata": {
        "id": "EpSJ6DnLf1hI"
      },
      "execution_count": 16,
      "outputs": []
    },
    {
      "cell_type": "code",
      "source": [
        "test_sample(text)"
      ],
      "metadata": {
        "id": "f0by6fle5ul_",
        "colab": {
          "base_uri": "https://localhost:8080/",
          "height": 53
        },
        "outputId": "9c289925-2dbc-4a61-b75a-684eb1f8067d"
      },
      "execution_count": 17,
      "outputs": [
        {
          "output_type": "execute_result",
          "data": {
            "text/plain": [
              "'The model predicts this text is written by a Human\\nand the probabilities it is a human vs a LLM are 0.9751503175046552 and 0.02484968249534482, respectively.'"
            ],
            "application/vnd.google.colaboratory.intrinsic+json": {
              "type": "string"
            }
          },
          "metadata": {},
          "execution_count": 17
        }
      ]
    },
    {
      "cell_type": "code",
      "source": [
        "XG_test_sample(text)"
      ],
      "metadata": {
        "colab": {
          "base_uri": "https://localhost:8080/",
          "height": 53
        },
        "id": "TP5feWzh9T6U",
        "outputId": "2e17250c-dbe8-40f1-db36-a7b46984e456"
      },
      "execution_count": null,
      "outputs": [
        {
          "output_type": "execute_result",
          "data": {
            "text/plain": [
              "'The model predicts this text is written by a Human\\nand the probabilities it is a human vs a LLM are 0.9529932739315435 and 0.04700672606845651, respectively.'"
            ],
            "application/vnd.google.colaboratory.intrinsic+json": {
              "type": "string"
            }
          },
          "metadata": {},
          "execution_count": 247
        }
      ]
    },
    {
      "cell_type": "code",
      "source": [
        "text = \"\"\"\n",
        "One time I asked a random golfer I had never met before: “which aspect\n",
        "of golf do you think contributed to Tiger Wood’s many victories?” In other\n",
        "words, what part of golf (driving, putting, around the green shots, and approach\n",
        "shots), elevated Tiger Woods above the competition so much that he won so\n",
        "many tournaments? The golfer told me without hesitation something along the\n",
        "lines of, “His putting of course, I have seen fewer putters better than him.” This\n",
        "opinion is widely shared among golfers, and a few months prior to asking that\n",
        "question I would have agreed with his response. However, the answer is not\n",
        "quite as simple.\n",
        "Confused? Allow me to explain the cause of this widespread belief first.\n",
        "Whenever you see golf highlights, whether it be on television or Youtube, you\n",
        "are always blasted with clips of players making putts from crazy far distances,\n",
        "making them look better than they are. Why? Well those clips are cool, so\n",
        "the highlight creators have a lot of incentive to cherry pick the best moments\n",
        "and post them; that makes total sense. However, all of the videos of Tiger\n",
        "Woods and other golfers draining long putts to win championships creates an\n",
        "association in our brains, associating long putts with wins. This leads to a\n",
        "visual observation bias in thinking that because it looks like putting leads to\n",
        "winning, putting must be the most important part of the game. People see\n",
        "Tiger Woods as a great putter for that reason. And he is, don’t get me wrong,\n",
        "but actually what contributed to his wins the most, was in fact his approach\n",
        "shots. How exactly is this the case? Why are approach shots so important? Let\n",
        "me first explain something else: traditional golf statistics vs strokes gained golf\n",
        "statistics.\n",
        "Traditional golf statistics like total putts, greens in regulation (your ball\n",
        "being on the green in ‘par minus 2 strokes’), and fairways made (the amount\n",
        "of times your drive ends up on the fairway, rather than the rough) have been\n",
        "very popular for a long time. These measures are not representative of skill in\n",
        "actuality. For example, if you play 18 holes and have 24 putts, you might look\n",
        "at that traditional golf statistic and say you had a good putting day. However,\n",
        "if that day your approach shots were fantastic and you stuck it a few yards away\n",
        "from the hole every time, looking at the number of putts wouldn’t do you any\n",
        "good because you failed to make easy putts. You in fact did not have a good\n",
        "1\n",
        "putting day, though the number of putts says you did. You had few putts that\n",
        "day because of your approach shots, not putting skill. This same idea holds\n",
        "true for the other traditional golf statistics. For greens in regulation: how good\n",
        "were your drives? Where were you hitting the approach shots from? That will\n",
        "determine if your approach shots were actually good. For number of fairways\n",
        "made: how narrow were the fairways? Were there trees that made the drive\n",
        "more difficult? This all falls under the theme of strokes gained: considering\n",
        "statistics that take into account how well you performed given how difficult it\n",
        "was to perform the way you did, compared to the competition. Strokes gained\n",
        "statistics are a way to compare multiple parts of golf in one unit of measure. You\n",
        "need to look deeper than traditional golf statistics to figure out which aspect\n",
        "performed better. Strokes gained comes into play as it accounts for where your\n",
        "ball is, and how many strokes on average it takes your ‘competition’ to make it\n",
        "in the hole (it uses PGA tour averages, or amateur averages, or just common\n",
        "player averages to compare).\n",
        "The formula for strokes gained is as follows: (Starting position strokes gained\n",
        "− finishing position strokes gained) − 1. To visualize this, think about an\n",
        "example that the golf statistics company Shot Scope gives on their website. In\n",
        "this example two players start on a par 4 which is 381 yards long. Here Player\n",
        "A hits his drive to 185 yards from the hole. Then Player B tees off and drives\n",
        "it way further, his ball ending up 60 yards from the hole. Good drive Player B!\n",
        "Player A and B start at a tee box with a distance that their competition (say\n",
        "golfers with a handicap of 20; a moderate skill level) makes it in 5.45 strokes\n",
        "on average. Then from Player A’s finishing distance from the hole (185 yards)\n",
        "golfers with 20 handicap get it in the hole in 4.33 strokes on average, while for\n",
        "Player B’s distance away from the hole (60 yards), golfers with a handicap of 20\n",
        "get it in the hole in 3.99 strokes. Plugging in this into the formula, Player A had\n",
        "a drive that had a strokes gained of +0.12, and Player B had a strokes gained\n",
        "of +0.46. Here are the numbers for this formula. Player A strokes gained: (5.45\n",
        "− 4.33) − 1 = +0.12. Player B strokes gained: (5.45 − 3.99) − 1 = +0.46.\n",
        "This means that Player A’s drive was 0.12 strokes better than the measured\n",
        "competition, while Player B’s fantastic drive was 0.46 strokes better than the\n",
        "competition. Setting the PGA tour averages to the ‘competition’ changes your\n",
        "strokes gained significantly. Compared to the professionals averages, Player A\n",
        "had a strokes gained of -0.19, meaning in one shot he performed 0.19 shots worse\n",
        "than a professional. Also compared to the professionals, Player B had a strokes\n",
        "gained of +0.08, meaning in one shot he was up on the PGA average by 0.08\n",
        "shots. Those numbers seem small but they add up when you look at the larger\n",
        "picture. Then you apply this math to every shot, and look at the totals for each\n",
        "round (strokes gained tee shots, strokes gained approach shots, strokes gained\n",
        "short game, and strokes gained putting). This provides a significantly better\n",
        "form of measurement than traditional golf statistics like, ‘the number of putts\n",
        "in a round.’ It is also very useful to think of shots as fractions of a shot, rather\n",
        "than whole numbers.\n",
        "Now let’s dig into the data. I used a PGA Tour data set I found off of\n",
        "the website Kaggle.com. This data set measured all sorts of PGA statistics,\n",
        "2\n",
        "including each player’s strokes gained numbers. I first went through a process\n",
        "of cleaning and subsetting the data, which took much longer than I thought it\n",
        "would take. I took out variables that were not needed like the player names,\n",
        "and made sure all of the values in the data frame were numeric. This included\n",
        "taking the Money column and stripping it of all non-numeric characters (like\n",
        "‘$’ and ‘,’ ) using the parse number function from the readr package. I then\n",
        "converted all the values to be numeric using the as.numeric function. At this\n",
        "point the data cleaning was complete.\n",
        "Here is a correlation matrix (I put it in the form of an Rstudio data frame)\n",
        "of the variables we want to look at. For the sake of space I will not explain in\n",
        "this document how I coded it.\n",
        "This correlation matrix shows all of the different variables we selected, and\n",
        "how they are correlated to one another. Because this matrix is large and hard\n",
        "to interpret, I will now display some graphs to help illustrate the larger picture.\n",
        "Below is a graph on how good a player’s fairways made percentage is at\n",
        "predicting how much money they earn from tournaments. Fairways made signifies the percentage of times any given player hits his tee shot onto the fairway,\n",
        "rather than the rough. I used the Money variable as a comparison for all of\n",
        "these variables very intentionally. There are other measures like the Wins variable which measures the amount of wins, and the Top.10 variable which measure\n",
        "the amount of top 10 finishes a player has. These variables are not as good for\n",
        "comparison because first of all, there are a LOT of 0s for top 10 finishes and\n",
        "wins (not everybody wins!). Also, tournament earnings takes into account better than Wins and Top.10 the caliber of the player, because a player could have\n",
        "many wins in low level tournaments, but never win any large sums of money in\n",
        "the more competitive tournaments. The Money variable in my opinion captures\n",
        "best how much the player wins by assigning a ‘weight’ so to speak to their wins.\n",
        "The better the player is, the more they win bigger tournaments, so the more\n",
        "money they earn from those tournaments.\n",
        "3\n",
        "This very weak correlation shows that this traditional golf statistic is very\n",
        "poor at predicting the amount of tournament earnings. Below are graphs of\n",
        "the rest of the main traditional golf statistics. Putting has its x axis reversed\n",
        "because the less putts the better. How do these variables hold up?\n",
        "4\n",
        "These are some pretty weak correlations. This helps prove the hypothesis\n",
        "that these traditional golf statistics are weak. Now I will show a graph of how\n",
        "the average total strokes gained correlates to tournament earnings.\n",
        "5\n",
        "As we can see, this graph shows a strong correlation between total strokes\n",
        "gained and tournament earnings. We have enough evidence to conclude that\n",
        "strokes gained is most likely the more accurate form of golf statistics.\n",
        "For the sake of space, I will just simply tell you the correlation coefficient\n",
        "for the variables within strokes gained to determine the most important part\n",
        "of golf, the question we’ve been trying to answer all along. The r value (all of\n",
        "these are compared to tournament earnings) for average strokes gained putting\n",
        "is 0.2772874, for strokes gained off the tee (the first shot in a golf hole, often\n",
        "using a driver) is 0.4424441, for around the green (chipping, bunker shots, etc.)\n",
        "is 0.278182, and for approach shots (approach shots intending to land on the\n",
        "green from 50 yards out or greater) is 0.5102146. As we can see, the part\n",
        "of a PGA player’s game that contributes the most to tournament earnings is\n",
        "approach shots. You can see this same trend in the correlation matrix above for\n",
        "the variables Wins and Top.10 as well.\n",
        "Although this may be a bit anecdotal, here is a graph below that shows\n",
        "what Tiger Woods has excelled at. The label AVG.SG.PT means average strokes\n",
        "gained for putting. The label SG.OTT means strokes gained off the tee. The\n",
        "third label SG.APR means strokes gained for approach shots. Finally, SG.ARG\n",
        "means strokes gained from around the green.\n",
        "6\n",
        "We see he outperforms the competition in every area by the fact that his\n",
        "strokes gained is positive across the board, and that is expected of him. However,\n",
        "his strokes gained putting was only around 0.35 strokes better than the rest of\n",
        "the competition, while his strokes gained for approach shots outperformed the\n",
        "competition by a whopping 1.2 shots! This number might seem small, but just\n",
        "know that puts him at 2.976308 standard deviations above the mean for strokes\n",
        "gained approach shots! Tiger Wood’s many tournament wins can be attributed\n",
        "to his approach shot skill more than anything else, debunking the common\n",
        "perception.\n",
        "What can we conclude from all of this? Well, we learned that with all\n",
        "likelihood, strokes gained is a more reliable form of golf statistic than traditional\n",
        "golf statistics, and that approach shots are the most important contributor to\n",
        "winnings for PGA players with off the tee shots coming in at close second.\n",
        "Without any more statistical analysis, we can reasonably conclude that these\n",
        "same trends are true for regular golfers as well.\n",
        "Although those conclusions might only be useful to golfers, I do believe the\n",
        "real conclusion of this study is far more important than the golf conclusions. I\n",
        "believe that this analysis shows that your eyes can and often do deceive you in\n",
        "many ways when looking at complex processes. Sometimes in situations there\n",
        "are so many moving parts, and with a sprinkle of visual observation bias on top,\n",
        "even everyday events can be severely misinterpreted. This has huge implications\n",
        "in the work force, and further highlights the key role that data analysis plays in\n",
        "optimizing pretty much anything. Don’t rely on human perceptions, or feelings,\n",
        "especially in an increasingly complicated world full of many moving parts; look\n",
        "to the objective truth, which will lead you to where you need to be.\n",
        "\"\"\""
      ],
      "metadata": {
        "id": "a4OVCVNyfVPF"
      },
      "execution_count": 18,
      "outputs": []
    },
    {
      "cell_type": "code",
      "source": [
        "test_sample(text)"
      ],
      "metadata": {
        "id": "RGvhQyD65wKZ",
        "colab": {
          "base_uri": "https://localhost:8080/",
          "height": 53
        },
        "outputId": "506e4402-b796-48ad-cf21-92207aa117a2"
      },
      "execution_count": 19,
      "outputs": [
        {
          "output_type": "execute_result",
          "data": {
            "text/plain": [
              "'The model predicts this text is written by a Human\\nand the probabilities it is a human vs a LLM are 0.9999999999997934 and 2.06604088688624e-13, respectively.'"
            ],
            "application/vnd.google.colaboratory.intrinsic+json": {
              "type": "string"
            }
          },
          "metadata": {},
          "execution_count": 19
        }
      ]
    },
    {
      "cell_type": "code",
      "source": [
        "XG_test_sample(text)"
      ],
      "metadata": {
        "colab": {
          "base_uri": "https://localhost:8080/",
          "height": 53
        },
        "id": "PCOxhN119VbS",
        "outputId": "1aaf7435-d101-4925-af08-a004541e7bc6"
      },
      "execution_count": null,
      "outputs": [
        {
          "output_type": "execute_result",
          "data": {
            "text/plain": [
              "'The model predicts this text is written by a Human\\nand the probabilities it is a human vs a LLM are 0.8963794611388144 and 0.10362053886118562, respectively.'"
            ],
            "application/vnd.google.colaboratory.intrinsic+json": {
              "type": "string"
            }
          },
          "metadata": {},
          "execution_count": 250
        }
      ]
    },
    {
      "cell_type": "code",
      "source": [
        "text = \"\"\"\n",
        "The Enron scandal was an accounting scandal involving Enron Corporation, an American energy company based in Houston, Texas. When news of widespread fraud within the company became public in October 2001, the company declared bankruptcy and its accounting firm, Arthur Andersen – then one of the five largest audit and accountancy partnerships in the world – was effectively dissolved. In addition to being the largest bankruptcy reorganization in U.S. history at that time, Enron was cited as the biggest audit failure.[1]: 61\n",
        "\n",
        "Enron was formed in 1985 by Kenneth Lay after merging Houston Natural Gas and InterNorth. Several years later, when Jeffrey Skilling was hired, Lay developed a staff of executives that – by the use of accounting loopholes, the misuse of mark-to-market accounting, special purpose entities, and poor financial reporting – were able to hide billions of dollars in debt from failed deals and projects. Chief Financial Officer Andrew Fastow and other executives misled Enron's board of directors and audit committee on high-risk accounting practices and pressured Arthur Andersen to ignore the issues.\n",
        "\n",
        "Shareholders filed a $40 billion lawsuit (and were eventually partially compensated with $7.2 billion), after the company's stock price, which achieved a high of US$90.75 per share in mid-2000, plummeted to less than $1 by the end of November 2001.[2] The Securities and Exchange Commission (SEC) began an investigation, and rival Houston competitor Dynegy offered to purchase the company at a very low price. The deal failed, and on December 2, 2001, Enron filed for bankruptcy under Chapter 11 of the United States Bankruptcy Code. Enron's $63.4 billion in assets made it the largest corporate bankruptcy in U.S. history until the WorldCom scandal the following year.[3]\n",
        "\n",
        "Many executives at Enron were indicted for a variety of charges and some were later sentenced to prison, including former CEO Jeffrey Skilling. Then CEO and Chairman Kenneth Lay was indicted and convicted, but died before being sentenced. Arthur Andersen LLC was found guilty of illegally destroying documents relevant to the SEC investigation, which voided its license to audit public companies and effectively closed the firm. By the time the ruling was overturned at the Supreme Court, Arthur Andersen had lost the majority of its customers and had ceased operating. Enron employees and shareholders received limited returns in lawsuits, despite losing billions in pensions and stock prices.\n",
        "\n",
        "As a consequence of the scandal, new regulations and legislation were enacted to expand the accuracy of financial reporting for public companies.[4] One piece of legislation, the Sarbanes–Oxley Act, increased penalties for destroying, altering, or fabricating records in federal investigations or for attempting to defraud shareholders.[5] The act also increased the accountability of auditing firms to remain unbiased and independent of their clients.\n",
        "\"\"\""
      ],
      "metadata": {
        "id": "WzuHShoKexZn"
      },
      "execution_count": 20,
      "outputs": []
    },
    {
      "cell_type": "code",
      "source": [
        "test_sample(text)"
      ],
      "metadata": {
        "id": "H1FgWIlm5xIu",
        "colab": {
          "base_uri": "https://localhost:8080/",
          "height": 53
        },
        "outputId": "a001ab53-ddd5-4628-aed7-10ad06ce1188"
      },
      "execution_count": 21,
      "outputs": [
        {
          "output_type": "execute_result",
          "data": {
            "text/plain": [
              "'The model predicts this text is written by a LLM\\nand the probabilities it is a human vs a LLM are 0.10403412951932767 and 0.8959658704806723, respectively.'"
            ],
            "application/vnd.google.colaboratory.intrinsic+json": {
              "type": "string"
            }
          },
          "metadata": {},
          "execution_count": 21
        }
      ]
    },
    {
      "cell_type": "code",
      "source": [
        "XG_test_sample(text)"
      ],
      "metadata": {
        "colab": {
          "base_uri": "https://localhost:8080/",
          "height": 53
        },
        "id": "xplQt7uh9WNS",
        "outputId": "dd883c8e-d629-4ef8-d6db-03025cd5202c"
      },
      "execution_count": null,
      "outputs": [
        {
          "output_type": "execute_result",
          "data": {
            "text/plain": [
              "'The model predicts this text is written by a LLM\\nand the probabilities it is a human vs a LLM are 0.13058396462139632 and 0.8694160353786037, respectively.'"
            ],
            "application/vnd.google.colaboratory.intrinsic+json": {
              "type": "string"
            }
          },
          "metadata": {},
          "execution_count": 253
        }
      ]
    },
    {
      "cell_type": "code",
      "source": [],
      "metadata": {
        "id": "_PraCjevMBgc"
      },
      "execution_count": null,
      "outputs": []
    },
    {
      "cell_type": "code",
      "source": [
        "text = \"\"\"\n",
        "The Enron scandal was one of the world’s largest financial scandals, disintegrating billions of dollars in employee\n",
        "pensions and retirement funds, and causing a wave of accounting regulations to be set in place, but who (or what) is to\n",
        "blame, and what is there to learn?\n",
        "This multifaceted scandal is recognized as the largest example accounting fraud in history, and there are plenty of\n",
        "articles that go in-depth on the accounting details so I will only explain that, in short, Enron made it a goal to manipulate\n",
        "records and use all accounting loopholes possible to boost their shareholder value while not improving their company at all.\n",
        "They used every old accounting fraud trick in the book to create “‘earnings’ out of thin air” (Segal, 2024). These tactics\n",
        "hid the true status of the dying company, and eventually that bubble popped, leaving thousands with nothing, while the\n",
        "top executives earned even more as an article from The Guardian at the time explained that, “Enron paid out $681m to\n",
        "top executives” (Teather, 2002).\n",
        "I will now discuss who this fraud impacted the most: the employees. Testimonies from former employees show that\n",
        "they did everything right; they gave their best every day and in return Enron supplied them with benefits like 401(k) plans,\n",
        "pensions, and good salaries. However, as bankruptcy came along, workers were laid off and eventually when everything\n",
        "imploded, billions of dollars in employee pensions and retirement funds were lost. What makes this worse is that some of\n",
        "the top executives got some extra cash after this event, benefiting where employees were left in the dust. How badly were\n",
        "these employees left in the dust? They essentially had everything stripped away from them. They had no job, no more\n",
        "retirement plan, and for some even the college savings they had in store for their children were all gone. The top executives\n",
        "lied about the financial status of the company, took everything from their employees, and left the situation with millions of\n",
        "dollars and a “slap on the wrist” level punishment from the government. Pretty despicable of the executives right? Right.\n",
        "But how much should we blame them for this fraud compared to other as other aspects in this complicated ordeal?\n",
        "Many like to pin all of the blame on the executives, and while they should be held 100% accountable for their\n",
        "actions, there are other parts of this story that share some blame. One school of thought pins a large portion of the\n",
        "blame on the corporate pursuit of shareholder value. This is a destructive mindset involves a company solely pursuing the\n",
        "largest shareholder value possible, while disregarding actual company improvements. In the way the economy is set up,\n",
        "companies are supposed to pursue real improvements and real earnings, which boosts the shareholder value as a result.\n",
        "In the shareholder value hyper-focused mindset, a company will do all it can, whether it be lying or manipulating records\n",
        "or other deceptive tactics, to make investors think the company has a high fundamental value regardless of whether it\n",
        "actually does or not. This generates short term profit, but inevitably leads to an implosion later down the line. This\n",
        "becomes magnified when accounting regulations are improperly set up, providing many loopholes for the company to take\n",
        "advantage of. In the case of Enron, these two factors paved the way for the executives to make the decisions they did, and\n",
        "inevitably, the bubble popped.\n",
        "1\n",
        "Some also pin a large portion of the blame on the failure of the Enron review board to oversee the actions of its\n",
        "managers. Although it was needed for the board to put a stop to this deception, still the original and larger factor of\n",
        "this failure is the laser-focused shareholder power mindset that Enron had. To reinforce this point, in the article Learning\n",
        "From Enron, the authors explain that, “The true lesson of Enron is that until the power of the share-holder value norm is\n",
        "broken, effective reform of corporate governance will be on hold.” (Deakin and Konzelmann, 2004, pg. 141). Yes the top\n",
        "executive are 100% responsible for what they did, and yes the board shares some blame for failing to act on their senior\n",
        "managers’ deceptive tactics, but the largest part of the blame other than the executives’ decisions can be attributed to the\n",
        "extremely destructive shareholder maximization mindset that sparked the evil plans in the first place, as well as the lack\n",
        "of accounting regulations that left loopholes waiting for someone to exploit them.\n",
        "From looking back on this scandal from more than 20 years in the future, we can see the validity of the school of\n",
        "thought that pins a large portion of the blame of the Enron scandal on the shareholder value fixation as, “The outright\n",
        "fraud of the type that was the core of Enron’s ultimate collapse — bogus transactions that generated accounting entries\n",
        "but not real profits — was contained after Enron (even if other frauds, like Madoff’s arose)” (ABC News, 2011). Had the\n",
        "executives at Enron not enacted their despicable plan, some other executives at another company might have done the\n",
        "same thing due to the common corporate shareholder value fixation mindset and the lack of proper accounting regulations.\n",
        "With few (smaller) exceptions, this problem has been contained, not by stopping evil people from getting into power (which\n",
        "is hard to do!), but from a cultural wake-up to this shareholder value fixation, and the proper accounting laws being set\n",
        "in place.\n",
        "I just want to mention one more time that the executives were totally in the wrong and were 100% responsible\n",
        "for their actions. However, simply blaming evil people for their evil decisions does not do this situation justice, as the\n",
        "destructive shareholder value mindset and the lack of proper accounting regulations played a central role in the company\n",
        "imploding and thousands of employees left with nothing. The three factors: the evil executives, the shareholder value\n",
        "fixation mindset, and the lack of proper accounting laws, are all inseparable in this scandal; without any one of these\n",
        "factors the scandal may not have occurred, or at least to the scale it did.\n",
        "So what can we learn from all of this? I believe from the Enron scandal a lesson can be learned that highlights the\n",
        "theme of this course. This lesson is that scandals like this are never one sided. They do not involve one evil super-villain\n",
        "who just hates everyone and wants to do evil for the sake of being evil, but rather these large corporate scandals involve\n",
        "many real people who have a naturally greedy, prideful, and “over-optimistic” outlooks on life, and when paired with the\n",
        "proper resources and given the right circumstances, will make the choice to take advantage of others they will likely never\n",
        "see face, to face in unthinkable ways.\n",
        "\"\"\""
      ],
      "metadata": {
        "id": "jmnLaxhSR6ld"
      },
      "execution_count": 23,
      "outputs": []
    },
    {
      "cell_type": "code",
      "source": [
        "test_sample(text)"
      ],
      "metadata": {
        "colab": {
          "base_uri": "https://localhost:8080/",
          "height": 53
        },
        "id": "c8blDTTfbvP7",
        "outputId": "48fd4cb3-b2d7-46fe-97c2-9878f3d3852b"
      },
      "execution_count": 24,
      "outputs": [
        {
          "output_type": "execute_result",
          "data": {
            "text/plain": [
              "'The model predicts this text is written by a Human\\nand the probabilities it is a human vs a LLM are 0.9999999999283331 and 7.16668619065149e-11, respectively.'"
            ],
            "application/vnd.google.colaboratory.intrinsic+json": {
              "type": "string"
            }
          },
          "metadata": {},
          "execution_count": 24
        }
      ]
    },
    {
      "cell_type": "code",
      "source": [
        "text = \"\"\"\n",
        "\n",
        "The Enron scandal stands as one of the most infamous and far-reaching corporate fraud cases in history. Once a titan of the energy industry, Enron Corporation's spectacular rise and catastrophic fall revealed the dark underbelly of corporate greed and the devastating consequences of unchecked financial manipulation. The scandal not only led to the bankruptcy of a major corporation but also triggered significant regulatory reforms aimed at preventing such frauds in the future.\n",
        "\n",
        "Enron was established in 1985 through the merger of Houston Natural Gas and InterNorth. Under the leadership of Kenneth Lay, the company grew rapidly, transforming from a traditional energy supplier into a global powerhouse. By the 1990s, Enron had positioned itself at the forefront of energy trading, leveraging the deregulation of the energy markets to create a profitable niche. With Jeffrey Skilling joining the company in 1990 and eventually becoming CEO in 2001, Enron expanded its operations and innovated aggressively.\n",
        "\n",
        "Enron's business model was complex and ambitious. The company was involved in energy trading, broadband services, and numerous international projects. It pioneered the use of complex financial instruments, such as derivatives, to manage risk and enhance profitability. Enron Online, launched in 1999, was the first Internet-based commodities trading platform, revolutionizing the way energy was bought and sold.\n",
        "\n",
        "Despite its apparent success, Enron's financial health was a carefully constructed illusion. The company employed a range of deceptive accounting practices to hide its mounting debts and inflate profits. Central to this deceit were the use of special purpose entities (SPEs), which allowed Enron to keep significant liabilities off its balance sheet. This off-balance-sheet financing misled investors and analysts about the company's true financial condition.\n",
        "\n",
        "Enron's auditors, Arthur Andersen, failed to provide the necessary oversight. The firm's lucrative consulting fees from Enron created a conflict of interest, resulting in a lack of scrutiny over Enron's financial practices. This allowed Enron's executives to continue their deceptive practices unchallenged.\n",
        "\n",
        "The cracks in Enron's facade began to appear in mid-2001 when analysts and journalists started questioning the company's opaque financial statements. In October 2001, Enron reported a staggering $618 million third-quarter loss and disclosed a $1.2 billion reduction in shareholder equity, linked to the SPEs. This revelation triggered a rapid decline in investor confidence and a plummet in Enron's stock price.\n",
        "\n",
        "The situation worsened when the Securities and Exchange Commission (SEC) launched an investigation into Enron's accounting practices. The ensuing panic led to a wave of credit downgrades, making it impossible for Enron to secure the necessary capital to stay afloat. On December 2, 2001, Enron filed for Chapter 11 bankruptcy, listing $63.4 billion in assets, making it the largest bankruptcy in U.S. history at the time.\n",
        "\n",
        "The Enron scandal had profound legal and financial repercussions. Top executives, including Kenneth Lay, Jeffrey Skilling, and Andrew Fastow, were charged with multiple counts of fraud, insider trading, and other crimes. Lay and Skilling were found guilty, with Skilling receiving a 24-year prison sentence, which was later reduced. Arthur Andersen, once one of the world's largest accounting firms, was found guilty of obstructing justice for shredding documents related to the Enron audit. The conviction led to the firm's dissolution, resulting in the loss of 85,000 jobs.\n",
        "\n",
        "The Enron scandal prompted significant regulatory changes aimed at improving corporate governance and financial transparency. The most notable of these was the Sarbanes-Oxley Act of 2002, which established stringent new rules for corporate governance and financial disclosures. The Act aimed to restore public confidence in the financial markets by increasing accountability and reducing the likelihood of future corporate fraud.\n",
        "\n",
        "The Enron scandal serves as a cautionary tale about the dangers of corporate greed and the importance of transparency and accountability in business practices. It highlighted the need for rigorous oversight and regulation to protect investors and the public from corporate malfeasance. Enron's downfall not only reshaped the energy industry but also left an indelible mark on the landscape of corporate governance, influencing how businesses operate and how they are regulated to this day.\n",
        "\"\"\""
      ],
      "metadata": {
        "id": "vJxD0f7_Wx8I"
      },
      "execution_count": 25,
      "outputs": []
    },
    {
      "cell_type": "code",
      "source": [
        "test_sample(text)"
      ],
      "metadata": {
        "colab": {
          "base_uri": "https://localhost:8080/",
          "height": 53
        },
        "id": "-clheqfXbyah",
        "outputId": "1ebbfc8f-61fa-4b79-a0b6-788fca53a919"
      },
      "execution_count": 26,
      "outputs": [
        {
          "output_type": "execute_result",
          "data": {
            "text/plain": [
              "'The model predicts this text is written by a LLM\\nand the probabilities it is a human vs a LLM are 0.12131686652530516 and 0.8786831334746948, respectively.'"
            ],
            "application/vnd.google.colaboratory.intrinsic+json": {
              "type": "string"
            }
          },
          "metadata": {},
          "execution_count": 26
        }
      ]
    },
    {
      "cell_type": "code",
      "source": [],
      "metadata": {
        "id": "GyM8LhoYbx7Y"
      },
      "execution_count": null,
      "outputs": []
    },
    {
      "cell_type": "code",
      "source": [
        "text = \"\"\"\n",
        "Scissors are a ubiquitous tool, found in nearly every household, office, and classroom around the world. They are an essential instrument for cutting various materials, from paper and fabric to hair and food packaging. This simple yet ingenious device has a long and fascinating history, reflecting human ingenuity and the evolution of technology and craftsmanship.\n",
        "\n",
        "The history of scissors dates back to ancient times. The earliest known scissors appeared in Mesopotamia around 3000 to 4000 years ago. These early scissors were of a \"spring\" design, consisting of two bronze blades connected at the handle by a flexible strip of metal. The user would squeeze the handles together to cut and release them to pull the blades apart. This basic design persisted for centuries and was used by many ancient civilizations, including the Egyptians, Greeks, and Romans.\n",
        "\n",
        "The Romans made significant advancements in scissor technology around 100 AD, developing a pivoted or \"cross-blade\" design that more closely resembles modern scissors. These Roman scissors had a central pivot point, allowing the blades to pivot against each other and providing greater control and precision. This design was particularly useful for tasks requiring fine motor skills, such as cutting fabric and hair.\n",
        "\n",
        "Throughout the Middle Ages, scissors continued to evolve, with blacksmiths across Europe producing more refined and durable versions. By the 16th century, the craft of scissor-making had become highly specialized, with cities like Sheffield in England becoming renowned for their high-quality cutlery. The Industrial Revolution in the 18th and 19th centuries brought further advancements, including the mass production of scissors, making them more affordable and widely available.\n",
        "\n",
        "Today, scissors come in a wide variety of shapes, sizes, and materials, each tailored to specific tasks. There are specialized scissors for sewing and embroidery, with sharp, pointed blades for precise cutting of fabric and thread. Kitchen scissors, often sturdier and with serrated edges, are designed for cutting meat, vegetables, and packaging. Hairdressing scissors have extremely sharp blades and ergonomic handles to ensure smooth and accurate cuts. There are even safety scissors for children, with rounded tips and plastic blades to prevent injury.\n",
        "\n",
        "The materials used in modern scissors have also evolved. While early scissors were made of bronze or iron, contemporary scissors are typically made of stainless steel, which is durable, corrosion-resistant, and maintains a sharp edge. Some high-end scissors feature titanium-coated blades for added strength and longevity, and ergonomic designs to reduce hand fatigue during prolonged use.\n",
        "\n",
        "Beyond their practical applications, scissors have also found a place in art and culture. In many cultures, scissors are symbolically significant. For example, in ancient Chinese culture, scissors were often used in traditional paper-cutting art, creating intricate designs for festive occasions. In the Western world, the image of scissors is often associated with crafting and creativity.\n",
        "\n",
        "Scissors also play a role in folklore and superstition. In some cultures, it is believed that placing a pair of scissors under a pillow can ward off nightmares, while others believe that gifting scissors can \"cut\" a relationship or friendship. Despite these varied beliefs, the practical value of scissors remains undisputed.\n",
        "\n",
        "In conclusion, scissors are an indispensable tool with a rich history spanning thousands of years. From their ancient origins to their modern incarnations, scissors have evolved to meet the diverse needs of humanity. They are a testament to human ingenuity and the continuous pursuit of innovation. Whether used for everyday tasks or specialized professions, scissors remain an essential tool in our daily lives, reflecting both our history and our creativity.\n",
        "\"\"\""
      ],
      "metadata": {
        "id": "C4wx17HcT93U"
      },
      "execution_count": 27,
      "outputs": []
    },
    {
      "cell_type": "code",
      "source": [
        "test_sample(text)"
      ],
      "metadata": {
        "colab": {
          "base_uri": "https://localhost:8080/",
          "height": 53
        },
        "id": "QHARvmK1b05q",
        "outputId": "15b2f2df-3d57-4141-99fc-1531cb9dfe05"
      },
      "execution_count": 28,
      "outputs": [
        {
          "output_type": "execute_result",
          "data": {
            "text/plain": [
              "'The model predicts this text is written by a LLM\\nand the probabilities it is a human vs a LLM are 0.3965648502795921 and 0.6034351497204079, respectively.'"
            ],
            "application/vnd.google.colaboratory.intrinsic+json": {
              "type": "string"
            }
          },
          "metadata": {},
          "execution_count": 28
        }
      ]
    },
    {
      "cell_type": "code",
      "source": [
        "from sklearn.ensemble import RandomForestClassifier as RF\n",
        "rf = RF()"
      ],
      "metadata": {
        "id": "DJ6dz4nFQUbq"
      },
      "execution_count": null,
      "outputs": []
    },
    {
      "cell_type": "code",
      "source": [
        "model1 = Sequential()\n",
        "model1.add(Embedding(max_word, 1000, input_length=max_sequence_length))\n",
        "model1.add(Bidirectional(LSTM(128, dropout=0.5, return_sequences=True)))\n",
        "model1.add(Bidirectional(LSTM(64, dropout=0.5)))\n",
        "model1.add(Dense(1, activation='sigmoid'))\n",
        "# Compile Model\n",
        "model1.compile(optimizer='adam', loss='binary_crossentropy', metrics=['accuracy'])"
      ],
      "metadata": {
        "id": "9qrvyA3iLAn7"
      },
      "execution_count": 29,
      "outputs": []
    },
    {
      "cell_type": "code",
      "source": [
        "history = model1.fit(X_train, y_train, epochs=2, validation_data=(X_test, y_test))"
      ],
      "metadata": {
        "colab": {
          "base_uri": "https://localhost:8080/",
          "height": 1000
        },
        "id": "rXKBLyLiQUeP",
        "outputId": "7a1ac488-f114-49d0-8197-1ebf37499151"
      },
      "execution_count": 30,
      "outputs": [
        {
          "output_type": "stream",
          "name": "stdout",
          "text": [
            "Epoch 1/2\n"
          ]
        },
        {
          "output_type": "error",
          "ename": "UnimplementedError",
          "evalue": "Graph execution error:\n\nDetected at node binary_crossentropy/Cast defined at (most recent call last):\n  File \"/usr/lib/python3.10/runpy.py\", line 196, in _run_module_as_main\n\n  File \"/usr/lib/python3.10/runpy.py\", line 86, in _run_code\n\n  File \"/usr/local/lib/python3.10/dist-packages/colab_kernel_launcher.py\", line 37, in <module>\n\n  File \"/usr/local/lib/python3.10/dist-packages/traitlets/config/application.py\", line 992, in launch_instance\n\n  File \"/usr/local/lib/python3.10/dist-packages/ipykernel/kernelapp.py\", line 619, in start\n\n  File \"/usr/local/lib/python3.10/dist-packages/tornado/platform/asyncio.py\", line 195, in start\n\n  File \"/usr/lib/python3.10/asyncio/base_events.py\", line 603, in run_forever\n\n  File \"/usr/lib/python3.10/asyncio/base_events.py\", line 1909, in _run_once\n\n  File \"/usr/lib/python3.10/asyncio/events.py\", line 80, in _run\n\n  File \"/usr/local/lib/python3.10/dist-packages/tornado/ioloop.py\", line 685, in <lambda>\n\n  File \"/usr/local/lib/python3.10/dist-packages/tornado/ioloop.py\", line 738, in _run_callback\n\n  File \"/usr/local/lib/python3.10/dist-packages/tornado/gen.py\", line 825, in inner\n\n  File \"/usr/local/lib/python3.10/dist-packages/tornado/gen.py\", line 786, in run\n\n  File \"/usr/local/lib/python3.10/dist-packages/ipykernel/kernelbase.py\", line 377, in dispatch_queue\n\n  File \"/usr/local/lib/python3.10/dist-packages/tornado/gen.py\", line 250, in wrapper\n\n  File \"/usr/local/lib/python3.10/dist-packages/tornado/gen.py\", line 748, in __init__\n\n  File \"/usr/local/lib/python3.10/dist-packages/tornado/gen.py\", line 786, in run\n\n  File \"/usr/local/lib/python3.10/dist-packages/ipykernel/kernelbase.py\", line 361, in process_one\n\n  File \"/usr/local/lib/python3.10/dist-packages/tornado/gen.py\", line 234, in wrapper\n\n  File \"/usr/local/lib/python3.10/dist-packages/ipykernel/kernelbase.py\", line 261, in dispatch_shell\n\n  File \"/usr/local/lib/python3.10/dist-packages/tornado/gen.py\", line 234, in wrapper\n\n  File \"/usr/local/lib/python3.10/dist-packages/ipykernel/kernelbase.py\", line 539, in execute_request\n\n  File \"/usr/local/lib/python3.10/dist-packages/tornado/gen.py\", line 234, in wrapper\n\n  File \"/usr/local/lib/python3.10/dist-packages/ipykernel/ipkernel.py\", line 302, in do_execute\n\n  File \"/usr/local/lib/python3.10/dist-packages/ipykernel/zmqshell.py\", line 539, in run_cell\n\n  File \"/usr/local/lib/python3.10/dist-packages/IPython/core/interactiveshell.py\", line 2975, in run_cell\n\n  File \"/usr/local/lib/python3.10/dist-packages/IPython/core/interactiveshell.py\", line 3030, in _run_cell\n\n  File \"/usr/local/lib/python3.10/dist-packages/IPython/core/async_helpers.py\", line 78, in _pseudo_sync_runner\n\n  File \"/usr/local/lib/python3.10/dist-packages/IPython/core/interactiveshell.py\", line 3257, in run_cell_async\n\n  File \"/usr/local/lib/python3.10/dist-packages/IPython/core/interactiveshell.py\", line 3473, in run_ast_nodes\n\n  File \"/usr/local/lib/python3.10/dist-packages/IPython/core/interactiveshell.py\", line 3553, in run_code\n\n  File \"<ipython-input-30-e58527239793>\", line 1, in <cell line: 1>\n\n  File \"/usr/local/lib/python3.10/dist-packages/keras/src/utils/traceback_utils.py\", line 65, in error_handler\n\n  File \"/usr/local/lib/python3.10/dist-packages/keras/src/engine/training.py\", line 1807, in fit\n\n  File \"/usr/local/lib/python3.10/dist-packages/keras/src/engine/training.py\", line 1401, in train_function\n\n  File \"/usr/local/lib/python3.10/dist-packages/keras/src/engine/training.py\", line 1384, in step_function\n\n  File \"/usr/local/lib/python3.10/dist-packages/keras/src/engine/training.py\", line 1373, in run_step\n\n  File \"/usr/local/lib/python3.10/dist-packages/keras/src/engine/training.py\", line 1151, in train_step\n\n  File \"/usr/local/lib/python3.10/dist-packages/keras/src/engine/training.py\", line 1209, in compute_loss\n\n  File \"/usr/local/lib/python3.10/dist-packages/keras/src/engine/compile_utils.py\", line 277, in __call__\n\n  File \"/usr/local/lib/python3.10/dist-packages/keras/src/losses.py\", line 143, in __call__\n\n  File \"/usr/local/lib/python3.10/dist-packages/keras/src/losses.py\", line 270, in call\n\n  File \"/usr/local/lib/python3.10/dist-packages/keras/src/losses.py\", line 2521, in binary_crossentropy\n\nCast string to float is not supported\n\t [[{{node binary_crossentropy/Cast}}]] [Op:__inference_train_function_11263]",
          "traceback": [
            "\u001b[0;31m---------------------------------------------------------------------------\u001b[0m",
            "\u001b[0;31mUnimplementedError\u001b[0m                        Traceback (most recent call last)",
            "\u001b[0;32m<ipython-input-30-e58527239793>\u001b[0m in \u001b[0;36m<cell line: 1>\u001b[0;34m()\u001b[0m\n\u001b[0;32m----> 1\u001b[0;31m \u001b[0mhistory\u001b[0m \u001b[0;34m=\u001b[0m \u001b[0mmodel1\u001b[0m\u001b[0;34m.\u001b[0m\u001b[0mfit\u001b[0m\u001b[0;34m(\u001b[0m\u001b[0mX_train\u001b[0m\u001b[0;34m,\u001b[0m \u001b[0my_train\u001b[0m\u001b[0;34m,\u001b[0m \u001b[0mepochs\u001b[0m\u001b[0;34m=\u001b[0m\u001b[0;36m2\u001b[0m\u001b[0;34m,\u001b[0m \u001b[0mvalidation_data\u001b[0m\u001b[0;34m=\u001b[0m\u001b[0;34m(\u001b[0m\u001b[0mX_test\u001b[0m\u001b[0;34m,\u001b[0m \u001b[0my_test\u001b[0m\u001b[0;34m)\u001b[0m\u001b[0;34m)\u001b[0m\u001b[0;34m\u001b[0m\u001b[0;34m\u001b[0m\u001b[0m\n\u001b[0m",
            "\u001b[0;32m/usr/local/lib/python3.10/dist-packages/keras/src/utils/traceback_utils.py\u001b[0m in \u001b[0;36merror_handler\u001b[0;34m(*args, **kwargs)\u001b[0m\n\u001b[1;32m     68\u001b[0m             \u001b[0;31m# To get the full stack trace, call:\u001b[0m\u001b[0;34m\u001b[0m\u001b[0;34m\u001b[0m\u001b[0m\n\u001b[1;32m     69\u001b[0m             \u001b[0;31m# `tf.debugging.disable_traceback_filtering()`\u001b[0m\u001b[0;34m\u001b[0m\u001b[0;34m\u001b[0m\u001b[0m\n\u001b[0;32m---> 70\u001b[0;31m             \u001b[0;32mraise\u001b[0m \u001b[0me\u001b[0m\u001b[0;34m.\u001b[0m\u001b[0mwith_traceback\u001b[0m\u001b[0;34m(\u001b[0m\u001b[0mfiltered_tb\u001b[0m\u001b[0;34m)\u001b[0m \u001b[0;32mfrom\u001b[0m \u001b[0;32mNone\u001b[0m\u001b[0;34m\u001b[0m\u001b[0;34m\u001b[0m\u001b[0m\n\u001b[0m\u001b[1;32m     71\u001b[0m         \u001b[0;32mfinally\u001b[0m\u001b[0;34m:\u001b[0m\u001b[0;34m\u001b[0m\u001b[0;34m\u001b[0m\u001b[0m\n\u001b[1;32m     72\u001b[0m             \u001b[0;32mdel\u001b[0m \u001b[0mfiltered_tb\u001b[0m\u001b[0;34m\u001b[0m\u001b[0;34m\u001b[0m\u001b[0m\n",
            "\u001b[0;32m/usr/local/lib/python3.10/dist-packages/tensorflow/python/eager/execute.py\u001b[0m in \u001b[0;36mquick_execute\u001b[0;34m(op_name, num_outputs, inputs, attrs, ctx, name)\u001b[0m\n\u001b[1;32m     51\u001b[0m   \u001b[0;32mtry\u001b[0m\u001b[0;34m:\u001b[0m\u001b[0;34m\u001b[0m\u001b[0;34m\u001b[0m\u001b[0m\n\u001b[1;32m     52\u001b[0m     \u001b[0mctx\u001b[0m\u001b[0;34m.\u001b[0m\u001b[0mensure_initialized\u001b[0m\u001b[0;34m(\u001b[0m\u001b[0;34m)\u001b[0m\u001b[0;34m\u001b[0m\u001b[0;34m\u001b[0m\u001b[0m\n\u001b[0;32m---> 53\u001b[0;31m     tensors = pywrap_tfe.TFE_Py_Execute(ctx._handle, device_name, op_name,\n\u001b[0m\u001b[1;32m     54\u001b[0m                                         inputs, attrs, num_outputs)\n\u001b[1;32m     55\u001b[0m   \u001b[0;32mexcept\u001b[0m \u001b[0mcore\u001b[0m\u001b[0;34m.\u001b[0m\u001b[0m_NotOkStatusException\u001b[0m \u001b[0;32mas\u001b[0m \u001b[0me\u001b[0m\u001b[0;34m:\u001b[0m\u001b[0;34m\u001b[0m\u001b[0;34m\u001b[0m\u001b[0m\n",
            "\u001b[0;31mUnimplementedError\u001b[0m: Graph execution error:\n\nDetected at node binary_crossentropy/Cast defined at (most recent call last):\n  File \"/usr/lib/python3.10/runpy.py\", line 196, in _run_module_as_main\n\n  File \"/usr/lib/python3.10/runpy.py\", line 86, in _run_code\n\n  File \"/usr/local/lib/python3.10/dist-packages/colab_kernel_launcher.py\", line 37, in <module>\n\n  File \"/usr/local/lib/python3.10/dist-packages/traitlets/config/application.py\", line 992, in launch_instance\n\n  File \"/usr/local/lib/python3.10/dist-packages/ipykernel/kernelapp.py\", line 619, in start\n\n  File \"/usr/local/lib/python3.10/dist-packages/tornado/platform/asyncio.py\", line 195, in start\n\n  File \"/usr/lib/python3.10/asyncio/base_events.py\", line 603, in run_forever\n\n  File \"/usr/lib/python3.10/asyncio/base_events.py\", line 1909, in _run_once\n\n  File \"/usr/lib/python3.10/asyncio/events.py\", line 80, in _run\n\n  File \"/usr/local/lib/python3.10/dist-packages/tornado/ioloop.py\", line 685, in <lambda>\n\n  File \"/usr/local/lib/python3.10/dist-packages/tornado/ioloop.py\", line 738, in _run_callback\n\n  File \"/usr/local/lib/python3.10/dist-packages/tornado/gen.py\", line 825, in inner\n\n  File \"/usr/local/lib/python3.10/dist-packages/tornado/gen.py\", line 786, in run\n\n  File \"/usr/local/lib/python3.10/dist-packages/ipykernel/kernelbase.py\", line 377, in dispatch_queue\n\n  File \"/usr/local/lib/python3.10/dist-packages/tornado/gen.py\", line 250, in wrapper\n\n  File \"/usr/local/lib/python3.10/dist-packages/tornado/gen.py\", line 748, in __init__\n\n  File \"/usr/local/lib/python3.10/dist-packages/tornado/gen.py\", line 786, in run\n\n  File \"/usr/local/lib/python3.10/dist-packages/ipykernel/kernelbase.py\", line 361, in process_one\n\n  File \"/usr/local/lib/python3.10/dist-packages/tornado/gen.py\", line 234, in wrapper\n\n  File \"/usr/local/lib/python3.10/dist-packages/ipykernel/kernelbase.py\", line 261, in dispatch_shell\n\n  File \"/usr/local/lib/python3.10/dist-packages/tornado/gen.py\", line 234, in wrapper\n\n  File \"/usr/local/lib/python3.10/dist-packages/ipykernel/kernelbase.py\", line 539, in execute_request\n\n  File \"/usr/local/lib/python3.10/dist-packages/tornado/gen.py\", line 234, in wrapper\n\n  File \"/usr/local/lib/python3.10/dist-packages/ipykernel/ipkernel.py\", line 302, in do_execute\n\n  File \"/usr/local/lib/python3.10/dist-packages/ipykernel/zmqshell.py\", line 539, in run_cell\n\n  File \"/usr/local/lib/python3.10/dist-packages/IPython/core/interactiveshell.py\", line 2975, in run_cell\n\n  File \"/usr/local/lib/python3.10/dist-packages/IPython/core/interactiveshell.py\", line 3030, in _run_cell\n\n  File \"/usr/local/lib/python3.10/dist-packages/IPython/core/async_helpers.py\", line 78, in _pseudo_sync_runner\n\n  File \"/usr/local/lib/python3.10/dist-packages/IPython/core/interactiveshell.py\", line 3257, in run_cell_async\n\n  File \"/usr/local/lib/python3.10/dist-packages/IPython/core/interactiveshell.py\", line 3473, in run_ast_nodes\n\n  File \"/usr/local/lib/python3.10/dist-packages/IPython/core/interactiveshell.py\", line 3553, in run_code\n\n  File \"<ipython-input-30-e58527239793>\", line 1, in <cell line: 1>\n\n  File \"/usr/local/lib/python3.10/dist-packages/keras/src/utils/traceback_utils.py\", line 65, in error_handler\n\n  File \"/usr/local/lib/python3.10/dist-packages/keras/src/engine/training.py\", line 1807, in fit\n\n  File \"/usr/local/lib/python3.10/dist-packages/keras/src/engine/training.py\", line 1401, in train_function\n\n  File \"/usr/local/lib/python3.10/dist-packages/keras/src/engine/training.py\", line 1384, in step_function\n\n  File \"/usr/local/lib/python3.10/dist-packages/keras/src/engine/training.py\", line 1373, in run_step\n\n  File \"/usr/local/lib/python3.10/dist-packages/keras/src/engine/training.py\", line 1151, in train_step\n\n  File \"/usr/local/lib/python3.10/dist-packages/keras/src/engine/training.py\", line 1209, in compute_loss\n\n  File \"/usr/local/lib/python3.10/dist-packages/keras/src/engine/compile_utils.py\", line 277, in __call__\n\n  File \"/usr/local/lib/python3.10/dist-packages/keras/src/losses.py\", line 143, in __call__\n\n  File \"/usr/local/lib/python3.10/dist-packages/keras/src/losses.py\", line 270, in call\n\n  File \"/usr/local/lib/python3.10/dist-packages/keras/src/losses.py\", line 2521, in binary_crossentropy\n\nCast string to float is not supported\n\t [[{{node binary_crossentropy/Cast}}]] [Op:__inference_train_function_11263]"
          ]
        }
      ]
    }
  ]
}